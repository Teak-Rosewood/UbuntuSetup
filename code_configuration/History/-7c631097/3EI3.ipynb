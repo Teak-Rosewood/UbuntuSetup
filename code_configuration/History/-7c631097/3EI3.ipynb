{
 "cells": [
  {
   "cell_type": "code",
   "execution_count": 85,
   "metadata": {},
   "outputs": [],
   "source": [
    "# Imports \n",
    "\n",
    "import os\n",
    "os.environ['TF_CPP_MIN_LOG_LEVEL'] = '3'\n",
    "import tensorflow as tf\n",
    "from tensorflow.keras import layers\n",
    "from tensorflow.keras.datasets import mnist\n",
    "from tensorflow.keras.models import Model\n",
    "import numpy as np\n",
    "import pandas as pd\n",
    "import matplotlib.pyplot as plt"
   ]
  },
  {
   "cell_type": "code",
   "execution_count": 86,
   "metadata": {},
   "outputs": [
    {
     "name": "stdout",
     "output_type": "stream",
     "text": [
      "Found 17534 files belonging to 1 classes.\n",
      "Using 15781 files for training.\n",
      "Using 1753 files for validation.\n"
     ]
    }
   ],
   "source": [
    "# Splitting the data \n",
    "\n",
    "train_data, test_data = tf.keras.utils.image_dataset_from_directory(\n",
    "    directory='data',\n",
    "    label_mode=None,\n",
    "    batch_size=32,\n",
    "    image_size=(128, 128),\n",
    "    validation_split=0.1,\n",
    "    subset=\"both\",\n",
    "    seed=1)"
   ]
  },
  {
   "cell_type": "code",
   "execution_count": null,
   "metadata": {},
   "outputs": [],
   "source": [
    "# Data Preprocessing\n",
    "\n",
    "norm = layers.Rescaling(scale=1./255)\n",
    "\n",
    "def noise(array):\n",
    "    \"\"\"\n",
    "    Adds random noise to each image in the supplied array.\n",
    "    \"\"\"\n",
    "\n",
    "    noise_factor = 0.4\n",
    "    noisy_array = array + noise_factor * np.random.normal(\n",
    "        loc=0.0, scale=1.0, size=array.shape\n",
    "    )\n",
    "\n",
    "    return np.clip(noisy_array, 0.0, 1.0)\n",
    "\n",
    "noise_train_data = train_data.unbatch().map(lambda x: x))\n",
    "norm_train_data = noise_train_data.map(lambda x: norm(x))\n",
    "\n",
    "norm_test_data = test_data.map(lambda x: norm(x))\n",
    "noise_test_data = norm_test_data.map(lambda x: noise(x))"
   ]
  },
  {
   "cell_type": "code",
   "execution_count": null,
   "metadata": {},
   "outputs": [],
   "source": [
    "plt.figure(figsize=(5, 5))\n",
    "for images in train_data.take(1):\n",
    "    for i in range(9):\n",
    "        ax = plt.subplot(3, 3, i + 1)\n",
    "        plt.imshow(images[i].numpy().astype(\"uint8\"))\n",
    "        plt.axis(\"off\")"
   ]
  },
  {
   "cell_type": "code",
   "execution_count": null,
   "metadata": {},
   "outputs": [],
   "source": [
    "plt.figure(figsize=(5, 5))\n",
    "for images in norm_train_data.take(1):\n",
    "    for i in range(9):\n",
    "        ax = plt.subplot(3, 3, i + 1)\n",
    "        plt.imshow(images[i].numpy().astype(\"float32\"))\n",
    "        plt.axis(\"off\")"
   ]
  },
  {
   "cell_type": "code",
   "execution_count": 97,
   "metadata": {},
   "outputs": [
    {
     "name": "stdout",
     "output_type": "stream",
     "text": [
      "(128, 128, 3)\n"
     ]
    },
    {
     "data": {
      "text/plain": [
       "<tf.Tensor: shape=(128, 128, 3), dtype=float32, numpy=\n",
       "array([[[106.99609 , 108.99609 , 103.99609 ],\n",
       "        [ 94.1517  ,  96.1517  ,  91.1517  ],\n",
       "        [ 89.540665,  91.540665,  86.540665],\n",
       "        ...,\n",
       "        [ 75.4604  ,  63.73384 ,  51.73384 ],\n",
       "        [ 70.772156,  60.772156,  48.93622 ],\n",
       "        [ 56.98828 ,  46.98828 ,  36.98828 ]],\n",
       "\n",
       "       [[106.03516 , 108.03516 , 103.03516 ],\n",
       "        [ 95.041046,  97.041046,  92.041046],\n",
       "        [ 87.99539 ,  89.99539 ,  84.99539 ],\n",
       "        ...,\n",
       "        [ 77.29457 ,  65.56801 ,  53.56801 ],\n",
       "        [ 71.43353 ,  61.433533,  49.597595],\n",
       "        [ 54.035156,  44.035156,  34.035156]],\n",
       "\n",
       "       [[108.921875, 110.921875, 105.921875],\n",
       "        [ 99.8139  , 101.8139  ,  96.8139  ],\n",
       "        [ 91.26419 ,  93.26419 ,  88.26419 ],\n",
       "        ...,\n",
       "        [ 75.38835 ,  63.66179 ,  51.66179 ],\n",
       "        [ 70.78906 ,  60.789062,  48.953125],\n",
       "        [ 57.01953 ,  47.01953 ,  37.01953 ]],\n",
       "\n",
       "       ...,\n",
       "\n",
       "       [[127.96094 , 140.96094 , 133.96094 ],\n",
       "        [124.27113 , 135.4352  , 129.35316 ],\n",
       "        [129.18854 , 139.3084  , 131.63242 ],\n",
       "        ...,\n",
       "        [144.65892 , 100.38548 ,  54.804886],\n",
       "        [162.51402 , 116.34996 ,  67.34996 ],\n",
       "        [168.92188 , 120.921875,  71.921875]],\n",
       "\n",
       "       [[129.97656 , 142.97656 , 135.97656 ],\n",
       "        [126.30469 , 139.28317 , 132.29393 ],\n",
       "        [128.59676 , 139.00371 , 131.14203 ],\n",
       "        ...,\n",
       "        [146.88852 ,  99.785355,  55.496994],\n",
       "        [160.01472 , 111.79303 ,  65.6768  ],\n",
       "        [170.97656 , 120.01172 ,  72.98828 ]],\n",
       "\n",
       "       [[125.01953 , 140.01172 , 133.01172 ],\n",
       "        [124.090805, 137.25423 , 130.25423 ],\n",
       "        [128.31747 , 137.86772 , 132.58417 ],\n",
       "        ...,\n",
       "        [141.61842 ,  92.35333 ,  49.07599 ],\n",
       "        [158.90657 , 107.91733 ,  62.74968 ],\n",
       "        [169.00781 , 118.00781 ,  71.00781 ]]], dtype=float32)>"
      ]
     },
     "execution_count": 97,
     "metadata": {},
     "output_type": "execute_result"
    }
   ],
   "source": [
    "for i in train_data.unbatch():\n",
    "    shape = i.shape\n",
    "    a = i\n",
    "print(shape)\n",
    "a"
   ]
  },
  {
   "cell_type": "code",
   "execution_count": 98,
   "metadata": {},
   "outputs": [],
   "source": []
  },
  {
   "cell_type": "code",
   "execution_count": 99,
   "metadata": {},
   "outputs": [
    {
     "data": {
      "text/plain": [
       "array([[[1., 1., 1.],\n",
       "        [1., 1., 1.],\n",
       "        [1., 1., 1.],\n",
       "        ...,\n",
       "        [1., 1., 1.],\n",
       "        [1., 1., 1.],\n",
       "        [1., 1., 1.]],\n",
       "\n",
       "       [[1., 1., 1.],\n",
       "        [1., 1., 1.],\n",
       "        [1., 1., 1.],\n",
       "        ...,\n",
       "        [1., 1., 1.],\n",
       "        [1., 1., 1.],\n",
       "        [1., 1., 1.]],\n",
       "\n",
       "       [[1., 1., 1.],\n",
       "        [1., 1., 1.],\n",
       "        [1., 1., 1.],\n",
       "        ...,\n",
       "        [1., 1., 1.],\n",
       "        [1., 1., 1.],\n",
       "        [1., 1., 1.]],\n",
       "\n",
       "       ...,\n",
       "\n",
       "       [[1., 1., 1.],\n",
       "        [1., 1., 1.],\n",
       "        [1., 1., 1.],\n",
       "        ...,\n",
       "        [1., 1., 1.],\n",
       "        [1., 1., 1.],\n",
       "        [1., 1., 1.]],\n",
       "\n",
       "       [[1., 1., 1.],\n",
       "        [1., 1., 1.],\n",
       "        [1., 1., 1.],\n",
       "        ...,\n",
       "        [1., 1., 1.],\n",
       "        [1., 1., 1.],\n",
       "        [1., 1., 1.]],\n",
       "\n",
       "       [[1., 1., 1.],\n",
       "        [1., 1., 1.],\n",
       "        [1., 1., 1.],\n",
       "        ...,\n",
       "        [1., 1., 1.],\n",
       "        [1., 1., 1.],\n",
       "        [1., 1., 1.]]], dtype=float32)"
      ]
     },
     "execution_count": 99,
     "metadata": {},
     "output_type": "execute_result"
    }
   ],
   "source": [
    "noise(a)"
   ]
  },
  {
   "cell_type": "code",
   "execution_count": null,
   "metadata": {},
   "outputs": [],
   "source": []
  }
 ],
 "metadata": {
  "kernelspec": {
   "display_name": "tf",
   "language": "python",
   "name": "python3"
  },
  "language_info": {
   "codemirror_mode": {
    "name": "ipython",
    "version": 3
   },
   "file_extension": ".py",
   "mimetype": "text/x-python",
   "name": "python",
   "nbconvert_exporter": "python",
   "pygments_lexer": "ipython3",
   "version": "3.9.18"
  }
 },
 "nbformat": 4,
 "nbformat_minor": 2
}
