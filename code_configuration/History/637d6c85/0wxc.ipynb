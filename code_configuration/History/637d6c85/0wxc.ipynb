{
  "cells": [
    {
      "cell_type": "code",
      "execution_count": 1,
      "metadata": {
        "id": "zX4Kg8DUTKWO"
      },
      "outputs": [],
      "source": [
        "#@title Licensed under the Apache License, Version 2.0 (the \"License\");\n",
        "# you may not use this file except in compliance with the License.\n",
        "# You may obtain a copy of the License at\n",
        "#\n",
        "# https://www.apache.org/licenses/LICENSE-2.0\n",
        "#\n",
        "# Unless required by applicable law or agreed to in writing, software\n",
        "# distributed under the License is distributed on an \"AS IS\" BASIS,\n",
        "# WITHOUT WARRANTIES OR CONDITIONS OF ANY KIND, either express or implied.\n",
        "# See the License for the specific language governing permissions and\n",
        "# limitations under the License."
      ]
    },
    {
      "cell_type": "markdown",
      "metadata": {
        "id": "view-in-github"
      },
      "source": [
        "<a href=\"https://colab.research.google.com/github/lmoroney/dlaicourse/blob/master/TensorFlow%20In%20Practice/Course%203%20-%20NLP/Course%203%20-%20Week%202%20-%20Lesson%202.ipynb\" target=\"_parent\"><img src=\"https://colab.research.google.com/assets/colab-badge.svg\" alt=\"Open In Colab\"/></a>"
      ]
    },
    {
      "cell_type": "code",
      "execution_count": 2,
      "metadata": {
        "colab": {
          "base_uri": "https://localhost:8080/"
        },
        "id": "4gs9htvM7n_x",
        "outputId": "c7dd7296-8c46-46c0-b1bf-f1a572a8b51b"
      },
      "outputs": [],
      "source": [
        "# Run this to ensure TensorFlow 2.x is used\n",
        "try:\n",
        "  # %tensorflow_version only exists in Colab.\n",
        "  %tensorflow_version 2.x\n",
        "except Exception:\n",
        "  pass"
      ]
    },
    {
      "cell_type": "code",
      "execution_count": 3,
      "metadata": {
        "id": "XYYDvoskkE61"
      },
      "outputs": [
        {
          "name": "stderr",
          "output_type": "stream",
          "text": [
            "2023-11-23 19:33:18.974405: I tensorflow/core/platform/cpu_feature_guard.cc:182] This TensorFlow binary is optimized to use available CPU instructions in performance-critical operations.\n",
            "To enable the following instructions: AVX2 FMA, in other operations, rebuild TensorFlow with the appropriate compiler flags.\n",
            "2023-11-23 19:33:19.608765: W tensorflow/compiler/tf2tensorrt/utils/py_utils.cc:38] TF-TRT Warning: Could not find TensorRT\n"
          ]
        }
      ],
      "source": [
        "import json\n",
        "import tensorflow as tf\n",
        "\n",
        "from tensorflow.keras.preprocessing.text import Tokenizer\n",
        "from tensorflow.keras.preprocessing.sequence import pad_sequences"
      ]
    },
    {
      "cell_type": "code",
      "execution_count": 4,
      "metadata": {
        "id": "0eJSTTYnkJQd"
      },
      "outputs": [],
      "source": [
        "vocab_size = 1000\n",
        "embedding_dim = 16\n",
        "max_length = 120\n",
        "trunc_type='post'\n",
        "padding_type='post'\n",
        "oov_tok = \"<OOV>\"\n",
        "training_size = 20000\n"
      ]
    },
    {
      "cell_type": "code",
      "execution_count": 5,
      "metadata": {
        "colab": {
          "base_uri": "https://localhost:8080/",
          "height": 385
        },
        "id": "oaLaaqhNkUPd",
        "outputId": "5e1e992e-f433-42bf-a264-5d3b7ff1495c"
      },
      "outputs": [],
      "source": [
        "with open(\"sarcasm.json\", 'r') as f:\n",
        "    datastore = json.load(f)\n",
        "\n",
        "sentences = []\n",
        "labels = []\n",
        "\n",
        "for item in datastore:\n",
        "    sentences.append(item['headline'])\n",
        "    labels.append(item['is_sarcastic'])"
      ]
    },
    {
      "cell_type": "code",
      "execution_count": 6,
      "metadata": {
        "id": "S1sD-7v0kYWk"
      },
      "outputs": [],
      "source": [
        "training_sentences = sentences[0:training_size]\n",
        "testing_sentences = sentences[training_size:]\n",
        "training_labels = labels[0:training_size]\n",
        "testing_labels = labels[training_size:]"
      ]
    },
    {
      "cell_type": "code",
      "execution_count": 7,
      "metadata": {
        "id": "3u8UB0MCkZ5N"
      },
      "outputs": [],
      "source": [
        "tokenizer = Tokenizer(num_words=vocab_size, oov_token=oov_tok)\n",
        "tokenizer.fit_on_texts(training_sentences)\n",
        "\n",
        "word_index = tokenizer.word_index\n",
        "\n",
        "training_sequences = tokenizer.texts_to_sequences(training_sentences)\n",
        "training_padded = pad_sequences(training_sequences, maxlen=max_length, padding=padding_type, truncating=trunc_type)\n",
        "\n",
        "testing_sequences = tokenizer.texts_to_sequences(testing_sentences)\n",
        "testing_padded = pad_sequences(testing_sequences, maxlen=max_length, padding=padding_type, truncating=trunc_type)"
      ]
    },
    {
      "cell_type": "code",
      "execution_count": 8,
      "metadata": {
        "id": "GrAlWBKf99Ya"
      },
      "outputs": [],
      "source": [
        "# Need this block to get it to work with TensorFlow 2.x\n",
        "import numpy as np\n",
        "training_padded = np.array(training_padded)\n",
        "training_labels = np.array(training_labels)\n",
        "testing_padded = np.array(testing_padded)\n",
        "testing_labels = np.array(testing_labels)"
      ]
    },
    {
      "cell_type": "code",
      "execution_count": 13,
      "metadata": {
        "id": "FufaT4vlkiDE"
      },
      "outputs": [],
      "source": [
        "model = tf.keras.Sequential([\n",
        "    tf.keras.layers.Embedding(vocab_size, embedding_dim, input_length=max_length),\n",
        "    tf.keras.layers.Conv1D(16,3,activation='relu'),\n",
        "    tf.keras.layers.MaxPooling1D(2),\n",
        "    #tf.keras.layers.Dropout(0.2),\n",
        "    tf.keras.layers.Flatten(),\n",
        "    tf.keras.layers.Dense(6, activation='relu'),\n",
        "    tf.keras.layers.Dense(1, activation='sigmoid')\n",
        "])\n",
        "model.compile(loss='binary_crossentropy',optimizer='adam',metrics=['accuracy'])"
      ]
    },
    {
      "cell_type": "code",
      "execution_count": 14,
      "metadata": {
        "id": "XfDt1hmYkiys"
      },
      "outputs": [
        {
          "name": "stdout",
          "output_type": "stream",
          "text": [
            "Model: \"sequential_1\"\n",
            "_________________________________________________________________\n",
            " Layer (type)                Output Shape              Param #   \n",
            "=================================================================\n",
            " embedding_1 (Embedding)     (None, 120, 16)           16000     \n",
            "                                                                 \n",
            " conv1d (Conv1D)             (None, 118, 16)           784       \n",
            "                                                                 \n",
            " max_pooling1d (MaxPooling1  (None, 59, 16)            0         \n",
            " D)                                                              \n",
            "                                                                 \n",
            " flatten (Flatten)           (None, 944)               0         \n",
            "                                                                 \n",
            " dense_5 (Dense)             (None, 6)                 5670      \n",
            "                                                                 \n",
            " dense_6 (Dense)             (None, 1)                 7         \n",
            "                                                                 \n",
            "=================================================================\n",
            "Total params: 22461 (87.74 KB)\n",
            "Trainable params: 22461 (87.74 KB)\n",
            "Non-trainable params: 0 (0.00 Byte)\n",
            "_________________________________________________________________\n"
          ]
        }
      ],
      "source": [
        "model.summary()\n"
      ]
    },
    {
      "cell_type": "code",
      "execution_count": 15,
      "metadata": {
        "id": "2DTKQFf1kkyc"
      },
      "outputs": [
        {
          "name": "stdout",
          "output_type": "stream",
          "text": [
            "Epoch 1/30\n"
          ]
        },
        {
          "name": "stdout",
          "output_type": "stream",
          "text": [
            "625/625 [==============================] - 13s 17ms/step - loss: 0.5415 - accuracy: 0.7312 - val_loss: 0.4668 - val_accuracy: 0.8117\n",
            "Epoch 2/30\n",
            "625/625 [==============================] - 5s 8ms/step - loss: 0.4166 - accuracy: 0.8359 - val_loss: 0.4195 - val_accuracy: 0.8283\n",
            "Epoch 3/30\n",
            "625/625 [==============================] - 5s 8ms/step - loss: 0.3670 - accuracy: 0.8555 - val_loss: 0.4052 - val_accuracy: 0.8287\n",
            "Epoch 4/30\n",
            "625/625 [==============================] - 5s 8ms/step - loss: 0.3298 - accuracy: 0.8702 - val_loss: 0.4116 - val_accuracy: 0.8287\n",
            "Epoch 5/30\n",
            "625/625 [==============================] - 5s 8ms/step - loss: 0.2984 - accuracy: 0.8866 - val_loss: 0.4104 - val_accuracy: 0.8220\n",
            "Epoch 6/30\n",
            "625/625 [==============================] - 5s 8ms/step - loss: 0.2724 - accuracy: 0.8981 - val_loss: 0.4266 - val_accuracy: 0.8274\n",
            "Epoch 7/30\n",
            "625/625 [==============================] - 5s 8ms/step - loss: 0.2488 - accuracy: 0.9079 - val_loss: 0.4360 - val_accuracy: 0.8240\n",
            "Epoch 8/30\n",
            "625/625 [==============================] - 4s 7ms/step - loss: 0.2277 - accuracy: 0.9172 - val_loss: 0.4639 - val_accuracy: 0.8210\n",
            "Epoch 9/30\n",
            "625/625 [==============================] - 1s 2ms/step - loss: 0.2075 - accuracy: 0.9250 - val_loss: 0.4881 - val_accuracy: 0.8188\n",
            "Epoch 10/30\n",
            "625/625 [==============================] - 4s 7ms/step - loss: 0.1889 - accuracy: 0.9354 - val_loss: 0.5160 - val_accuracy: 0.8106\n",
            "Epoch 11/30\n",
            "625/625 [==============================] - 5s 8ms/step - loss: 0.1737 - accuracy: 0.9433 - val_loss: 0.5467 - val_accuracy: 0.8106\n",
            "Epoch 12/30\n",
            "625/625 [==============================] - 5s 8ms/step - loss: 0.1594 - accuracy: 0.9477 - val_loss: 0.5871 - val_accuracy: 0.8132\n",
            "Epoch 13/30\n",
            "625/625 [==============================] - 5s 8ms/step - loss: 0.1479 - accuracy: 0.9533 - val_loss: 0.6422 - val_accuracy: 0.8082\n",
            "Epoch 14/30\n",
            "625/625 [==============================] - 5s 8ms/step - loss: 0.1388 - accuracy: 0.9566 - val_loss: 0.6601 - val_accuracy: 0.8038\n",
            "Epoch 15/30\n",
            "625/625 [==============================] - 5s 8ms/step - loss: 0.1284 - accuracy: 0.9611 - val_loss: 0.7263 - val_accuracy: 0.8080\n",
            "Epoch 16/30\n",
            "625/625 [==============================] - 5s 8ms/step - loss: 0.1198 - accuracy: 0.9646 - val_loss: 0.7382 - val_accuracy: 0.8022\n",
            "Epoch 17/30\n",
            "625/625 [==============================] - 5s 9ms/step - loss: 0.1155 - accuracy: 0.9660 - val_loss: 0.7996 - val_accuracy: 0.8040\n",
            "Epoch 18/30\n",
            "625/625 [==============================] - 5s 8ms/step - loss: 0.1095 - accuracy: 0.9688 - val_loss: 0.8358 - val_accuracy: 0.8009\n",
            "Epoch 19/30\n",
            "625/625 [==============================] - 5s 8ms/step - loss: 0.1064 - accuracy: 0.9682 - val_loss: 0.9476 - val_accuracy: 0.8012\n",
            "Epoch 20/30\n",
            "625/625 [==============================] - 5s 8ms/step - loss: 0.1031 - accuracy: 0.9707 - val_loss: 0.8711 - val_accuracy: 0.7992\n",
            "Epoch 21/30\n",
            "625/625 [==============================] - 5s 8ms/step - loss: 0.1022 - accuracy: 0.9703 - val_loss: 0.9221 - val_accuracy: 0.7973\n",
            "Epoch 22/30\n",
            "625/625 [==============================] - 5s 7ms/step - loss: 0.0985 - accuracy: 0.9719 - val_loss: 0.9764 - val_accuracy: 0.8013\n",
            "Epoch 23/30\n",
            "625/625 [==============================] - 5s 7ms/step - loss: 0.0946 - accuracy: 0.9736 - val_loss: 1.0346 - val_accuracy: 0.7995\n",
            "Epoch 24/30\n",
            "625/625 [==============================] - 5s 8ms/step - loss: 0.0954 - accuracy: 0.9728 - val_loss: 1.0785 - val_accuracy: 0.7930\n",
            "Epoch 25/30\n",
            "625/625 [==============================] - 5s 7ms/step - loss: 0.0925 - accuracy: 0.9740 - val_loss: 1.0273 - val_accuracy: 0.7973\n",
            "Epoch 26/30\n",
            "625/625 [==============================] - 5s 8ms/step - loss: 0.0925 - accuracy: 0.9739 - val_loss: 1.1118 - val_accuracy: 0.7930\n",
            "Epoch 27/30\n",
            "625/625 [==============================] - 5s 8ms/step - loss: 0.0904 - accuracy: 0.9740 - val_loss: 1.1616 - val_accuracy: 0.7945\n",
            "Epoch 28/30\n",
            "625/625 [==============================] - 5s 7ms/step - loss: 0.0894 - accuracy: 0.9743 - val_loss: 1.2082 - val_accuracy: 0.7948\n",
            "Epoch 29/30\n",
            "625/625 [==============================] - 5s 8ms/step - loss: 0.0885 - accuracy: 0.9750 - val_loss: 1.1377 - val_accuracy: 0.7951\n",
            "Epoch 30/30\n",
            "625/625 [==============================] - 5s 8ms/step - loss: 0.0880 - accuracy: 0.9750 - val_loss: 1.1658 - val_accuracy: 0.7924\n"
          ]
        }
      ],
      "source": [
        "num_epochs = 30\n",
        "history = model.fit(training_padded, training_labels, epochs=num_epochs, validation_data=(testing_padded, testing_labels))"
      ]
    },
    {
      "cell_type": "code",
      "execution_count": 12,
      "metadata": {},
      "outputs": [
        {
          "name": "stderr",
          "output_type": "stream",
          "text": [
            "/home/blank/miniconda3/envs/tf/lib/python3.9/site-packages/keras/src/engine/training.py:3000: UserWarning: You are saving your model as an HDF5 file via `model.save()`. This file format is considered legacy. We recommend using instead the native Keras format, e.g. `model.save('my_model.keras')`.\n",
            "  saving_api.save_model(\n"
          ]
        }
      ],
      "source": [
        "model.save('model.h5')"
      ]
    },
    {
      "cell_type": "code",
      "execution_count": null,
      "metadata": {},
      "outputs": [],
      "source": []
    }
  ],
  "metadata": {
    "accelerator": "GPU",
    "colab": {
      "provenance": []
    },
    "kernelspec": {
      "display_name": "Python 3",
      "name": "python3"
    },
    "language_info": {
      "codemirror_mode": {
        "name": "ipython",
        "version": 3
      },
      "file_extension": ".py",
      "mimetype": "text/x-python",
      "name": "python",
      "nbconvert_exporter": "python",
      "pygments_lexer": "ipython3",
      "version": "3.9.18"
    }
  },
  "nbformat": 4,
  "nbformat_minor": 0
}
