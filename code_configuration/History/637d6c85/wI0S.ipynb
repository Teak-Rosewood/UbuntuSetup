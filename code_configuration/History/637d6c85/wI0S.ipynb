{
  "cells": [
    {
      "cell_type": "code",
      "execution_count": 1,
      "metadata": {
        "id": "zX4Kg8DUTKWO"
      },
      "outputs": [],
      "source": [
        "#@title Licensed under the Apache License, Version 2.0 (the \"License\");\n",
        "# you may not use this file except in compliance with the License.\n",
        "# You may obtain a copy of the License at\n",
        "#\n",
        "# https://www.apache.org/licenses/LICENSE-2.0\n",
        "#\n",
        "# Unless required by applicable law or agreed to in writing, software\n",
        "# distributed under the License is distributed on an \"AS IS\" BASIS,\n",
        "# WITHOUT WARRANTIES OR CONDITIONS OF ANY KIND, either express or implied.\n",
        "# See the License for the specific language governing permissions and\n",
        "# limitations under the License."
      ]
    },
    {
      "cell_type": "markdown",
      "metadata": {
        "id": "view-in-github"
      },
      "source": [
        "<a href=\"https://colab.research.google.com/github/lmoroney/dlaicourse/blob/master/TensorFlow%20In%20Practice/Course%203%20-%20NLP/Course%203%20-%20Week%202%20-%20Lesson%202.ipynb\" target=\"_parent\"><img src=\"https://colab.research.google.com/assets/colab-badge.svg\" alt=\"Open In Colab\"/></a>"
      ]
    },
    {
      "cell_type": "code",
      "execution_count": 2,
      "metadata": {
        "colab": {
          "base_uri": "https://localhost:8080/"
        },
        "id": "4gs9htvM7n_x",
        "outputId": "c7dd7296-8c46-46c0-b1bf-f1a572a8b51b"
      },
      "outputs": [],
      "source": [
        "# Run this to ensure TensorFlow 2.x is used\n",
        "try:\n",
        "  # %tensorflow_version only exists in Colab.\n",
        "  %tensorflow_version 2.x\n",
        "except Exception:\n",
        "  pass"
      ]
    },
    {
      "cell_type": "code",
      "execution_count": 3,
      "metadata": {
        "id": "XYYDvoskkE61"
      },
      "outputs": [
        {
          "name": "stderr",
          "output_type": "stream",
          "text": [
            "2023-11-23 19:33:18.974405: I tensorflow/core/platform/cpu_feature_guard.cc:182] This TensorFlow binary is optimized to use available CPU instructions in performance-critical operations.\n",
            "To enable the following instructions: AVX2 FMA, in other operations, rebuild TensorFlow with the appropriate compiler flags.\n",
            "2023-11-23 19:33:19.608765: W tensorflow/compiler/tf2tensorrt/utils/py_utils.cc:38] TF-TRT Warning: Could not find TensorRT\n"
          ]
        }
      ],
      "source": [
        "import json\n",
        "import tensorflow as tf\n",
        "\n",
        "from tensorflow.keras.preprocessing.text import Tokenizer\n",
        "from tensorflow.keras.preprocessing.sequence import pad_sequences"
      ]
    },
    {
      "cell_type": "code",
      "execution_count": 4,
      "metadata": {
        "id": "0eJSTTYnkJQd"
      },
      "outputs": [],
      "source": [
        "vocab_size = 1000\n",
        "embedding_dim = 16\n",
        "max_length = 120\n",
        "trunc_type='post'\n",
        "padding_type='post'\n",
        "oov_tok = \"<OOV>\"\n",
        "training_size = 20000\n"
      ]
    },
    {
      "cell_type": "code",
      "execution_count": 5,
      "metadata": {
        "colab": {
          "base_uri": "https://localhost:8080/",
          "height": 385
        },
        "id": "oaLaaqhNkUPd",
        "outputId": "5e1e992e-f433-42bf-a264-5d3b7ff1495c"
      },
      "outputs": [],
      "source": [
        "with open(\"sarcasm.json\", 'r') as f:\n",
        "    datastore = json.load(f)\n",
        "\n",
        "sentences = []\n",
        "labels = []\n",
        "\n",
        "for item in datastore:\n",
        "    sentences.append(item['headline'])\n",
        "    labels.append(item['is_sarcastic'])"
      ]
    },
    {
      "cell_type": "code",
      "execution_count": 6,
      "metadata": {
        "id": "S1sD-7v0kYWk"
      },
      "outputs": [],
      "source": [
        "training_sentences = sentences[0:training_size]\n",
        "testing_sentences = sentences[training_size:]\n",
        "training_labels = labels[0:training_size]\n",
        "testing_labels = labels[training_size:]"
      ]
    },
    {
      "cell_type": "code",
      "execution_count": 7,
      "metadata": {
        "id": "3u8UB0MCkZ5N"
      },
      "outputs": [],
      "source": [
        "tokenizer = Tokenizer(num_words=vocab_size, oov_token=oov_tok)\n",
        "tokenizer.fit_on_texts(training_sentences)\n",
        "\n",
        "word_index = tokenizer.word_index\n",
        "\n",
        "training_sequences = tokenizer.texts_to_sequences(training_sentences)\n",
        "training_padded = pad_sequences(training_sequences, maxlen=max_length, padding=padding_type, truncating=trunc_type)\n",
        "\n",
        "testing_sequences = tokenizer.texts_to_sequences(testing_sentences)\n",
        "testing_padded = pad_sequences(testing_sequences, maxlen=max_length, padding=padding_type, truncating=trunc_type)"
      ]
    },
    {
      "cell_type": "code",
      "execution_count": 8,
      "metadata": {
        "id": "GrAlWBKf99Ya"
      },
      "outputs": [],
      "source": [
        "# Need this block to get it to work with TensorFlow 2.x\n",
        "import numpy as np\n",
        "training_padded = np.array(training_padded)\n",
        "training_labels = np.array(training_labels)\n",
        "testing_padded = np.array(testing_padded)\n",
        "testing_labels = np.array(testing_labels)"
      ]
    },
    {
      "cell_type": "code",
      "execution_count": 9,
      "metadata": {
        "id": "FufaT4vlkiDE"
      },
      "outputs": [
        {
          "name": "stderr",
          "output_type": "stream",
          "text": [
            "2023-11-23 19:33:20.872368: I tensorflow/compiler/xla/stream_executor/cuda/cuda_gpu_executor.cc:995] successful NUMA node read from SysFS had negative value (-1), but there must be at least one NUMA node, so returning NUMA node zero. See more at https://github.com/torvalds/linux/blob/v6.0/Documentation/ABI/testing/sysfs-bus-pci#L344-L355\n",
            "2023-11-23 19:33:20.891288: I tensorflow/compiler/xla/stream_executor/cuda/cuda_gpu_executor.cc:995] successful NUMA node read from SysFS had negative value (-1), but there must be at least one NUMA node, so returning NUMA node zero. See more at https://github.com/torvalds/linux/blob/v6.0/Documentation/ABI/testing/sysfs-bus-pci#L344-L355\n",
            "2023-11-23 19:33:20.891498: I tensorflow/compiler/xla/stream_executor/cuda/cuda_gpu_executor.cc:995] successful NUMA node read from SysFS had negative value (-1), but there must be at least one NUMA node, so returning NUMA node zero. See more at https://github.com/torvalds/linux/blob/v6.0/Documentation/ABI/testing/sysfs-bus-pci#L344-L355\n",
            "2023-11-23 19:33:20.892397: I tensorflow/compiler/xla/stream_executor/cuda/cuda_gpu_executor.cc:995] successful NUMA node read from SysFS had negative value (-1), but there must be at least one NUMA node, so returning NUMA node zero. See more at https://github.com/torvalds/linux/blob/v6.0/Documentation/ABI/testing/sysfs-bus-pci#L344-L355\n",
            "2023-11-23 19:33:20.892570: I tensorflow/compiler/xla/stream_executor/cuda/cuda_gpu_executor.cc:995] successful NUMA node read from SysFS had negative value (-1), but there must be at least one NUMA node, so returning NUMA node zero. See more at https://github.com/torvalds/linux/blob/v6.0/Documentation/ABI/testing/sysfs-bus-pci#L344-L355\n",
            "2023-11-23 19:33:20.892723: I tensorflow/compiler/xla/stream_executor/cuda/cuda_gpu_executor.cc:995] successful NUMA node read from SysFS had negative value (-1), but there must be at least one NUMA node, so returning NUMA node zero. See more at https://github.com/torvalds/linux/blob/v6.0/Documentation/ABI/testing/sysfs-bus-pci#L344-L355\n",
            "2023-11-23 19:33:20.953670: I tensorflow/compiler/xla/stream_executor/cuda/cuda_gpu_executor.cc:995] successful NUMA node read from SysFS had negative value (-1), but there must be at least one NUMA node, so returning NUMA node zero. See more at https://github.com/torvalds/linux/blob/v6.0/Documentation/ABI/testing/sysfs-bus-pci#L344-L355\n",
            "2023-11-23 19:33:20.953869: I tensorflow/compiler/xla/stream_executor/cuda/cuda_gpu_executor.cc:995] successful NUMA node read from SysFS had negative value (-1), but there must be at least one NUMA node, so returning NUMA node zero. See more at https://github.com/torvalds/linux/blob/v6.0/Documentation/ABI/testing/sysfs-bus-pci#L344-L355\n",
            "2023-11-23 19:33:20.954021: I tensorflow/compiler/xla/stream_executor/cuda/cuda_gpu_executor.cc:995] successful NUMA node read from SysFS had negative value (-1), but there must be at least one NUMA node, so returning NUMA node zero. See more at https://github.com/torvalds/linux/blob/v6.0/Documentation/ABI/testing/sysfs-bus-pci#L344-L355\n",
            "2023-11-23 19:33:20.954148: I tensorflow/core/common_runtime/gpu/gpu_device.cc:1639] Created device /job:localhost/replica:0/task:0/device:GPU:0 with 751 MB memory:  -> device: 0, name: NVIDIA GeForce GTX 1650 SUPER, pci bus id: 0000:29:00.0, compute capability: 7.5\n"
          ]
        }
      ],
      "source": [
        "model = tf.keras.Sequential([\n",
        "    tf.keras.layers.Embedding(vocab_size, embedding_dim, input_length=max_length),\n",
        "    tf.keras.layers.Conv1D(16,3,activation='relu'),\n",
        "    tf.keras.layers.MaxPooling1D(2),\n",
        "    #tf.keras.layers.Dropout(0.2),\n",
        "    tf.keras.layers.Flatten(),\n",
        "    tf.keras.layers.Dense(6, activation='relu'),\n",
        "    tf.keras.layers.Dense(1, activation='sigmoid')\n",
        "])\n",
        "model.compile(loss='binary_crossentropy',optimizer='adam',metrics=['accuracy'])"
      ]
    },
    {
      "cell_type": "code",
      "execution_count": 10,
      "metadata": {
        "id": "XfDt1hmYkiys"
      },
      "outputs": [
        {
          "name": "stdout",
          "output_type": "stream",
          "text": [
            "Model: \"sequential\"\n",
            "_________________________________________________________________\n",
            " Layer (type)                Output Shape              Param #   \n",
            "=================================================================\n",
            " embedding (Embedding)       (None, 120, 16)           16000     \n",
            "                                                                 \n",
            " global_max_pooling1d (Glob  (None, 16)                0         \n",
            " alMaxPooling1D)                                                 \n",
            "                                                                 \n",
            " dense (Dense)               (None, 40)                680       \n",
            "                                                                 \n",
            " dropout (Dropout)           (None, 40)                0         \n",
            "                                                                 \n",
            " dense_1 (Dense)             (None, 20)                820       \n",
            "                                                                 \n",
            " dropout_1 (Dropout)         (None, 20)                0         \n",
            "                                                                 \n",
            " dense_2 (Dense)             (None, 10)                210       \n",
            "                                                                 \n",
            " dropout_2 (Dropout)         (None, 10)                0         \n",
            "                                                                 \n",
            " dense_3 (Dense)             (None, 5)                 55        \n",
            "                                                                 \n",
            " dropout_3 (Dropout)         (None, 5)                 0         \n",
            "                                                                 \n",
            " dense_4 (Dense)             (None, 1)                 6         \n",
            "                                                                 \n",
            "=================================================================\n",
            "Total params: 17771 (69.42 KB)\n",
            "Trainable params: 17771 (69.42 KB)\n",
            "Non-trainable params: 0 (0.00 Byte)\n",
            "_________________________________________________________________\n"
          ]
        }
      ],
      "source": [
        "model.summary()\n"
      ]
    },
    {
      "cell_type": "code",
      "execution_count": 11,
      "metadata": {
        "id": "2DTKQFf1kkyc"
      },
      "outputs": [
        {
          "name": "stdout",
          "output_type": "stream",
          "text": [
            "Epoch 1/30\n"
          ]
        },
        {
          "name": "stderr",
          "output_type": "stream",
          "text": [
            "2023-11-23 19:33:21.816854: I tensorflow/compiler/xla/service/service.cc:168] XLA service 0x7f1f0a262a20 initialized for platform CUDA (this does not guarantee that XLA will be used). Devices:\n",
            "2023-11-23 19:33:21.816888: I tensorflow/compiler/xla/service/service.cc:176]   StreamExecutor device (0): NVIDIA GeForce GTX 1650 SUPER, Compute Capability 7.5\n",
            "2023-11-23 19:33:21.820451: I tensorflow/compiler/mlir/tensorflow/utils/dump_mlir_util.cc:255] disabling MLIR crash reproducer, set env var `MLIR_CRASH_REPRODUCER_DIRECTORY` to enable.\n",
            "2023-11-23 19:33:21.831931: I tensorflow/compiler/xla/stream_executor/cuda/cuda_dnn.cc:432] Loaded cuDNN version 8600\n",
            "2023-11-23 19:33:21.930435: I ./tensorflow/compiler/jit/device_compiler.h:186] Compiled cluster using XLA!  This line is logged at most once for the lifetime of the process.\n"
          ]
        },
        {
          "name": "stdout",
          "output_type": "stream",
          "text": [
            "625/625 [==============================] - 12s 16ms/step - loss: 0.6441 - accuracy: 0.6051 - val_loss: 0.5168 - val_accuracy: 0.7766\n",
            "Epoch 2/30\n",
            "625/625 [==============================] - 2s 4ms/step - loss: 0.5126 - accuracy: 0.7727 - val_loss: 0.4386 - val_accuracy: 0.8091\n",
            "Epoch 3/30\n",
            "625/625 [==============================] - 2s 3ms/step - loss: 0.4604 - accuracy: 0.8128 - val_loss: 0.4277 - val_accuracy: 0.8104\n",
            "Epoch 4/30\n",
            "625/625 [==============================] - 2s 3ms/step - loss: 0.4310 - accuracy: 0.8300 - val_loss: 0.4272 - val_accuracy: 0.8110\n",
            "Epoch 5/30\n",
            "625/625 [==============================] - 2s 3ms/step - loss: 0.4056 - accuracy: 0.8387 - val_loss: 0.4432 - val_accuracy: 0.8109\n",
            "Epoch 6/30\n",
            "625/625 [==============================] - 2s 3ms/step - loss: 0.3969 - accuracy: 0.8450 - val_loss: 0.4380 - val_accuracy: 0.8138\n",
            "Epoch 7/30\n",
            "625/625 [==============================] - 2s 3ms/step - loss: 0.3767 - accuracy: 0.8529 - val_loss: 0.4433 - val_accuracy: 0.8097\n",
            "Epoch 8/30\n",
            "625/625 [==============================] - 2s 3ms/step - loss: 0.3639 - accuracy: 0.8583 - val_loss: 0.4625 - val_accuracy: 0.8077\n",
            "Epoch 9/30\n",
            "625/625 [==============================] - 2s 3ms/step - loss: 0.3464 - accuracy: 0.8632 - val_loss: 0.5060 - val_accuracy: 0.8067\n",
            "Epoch 10/30\n",
            "625/625 [==============================] - 2s 3ms/step - loss: 0.3347 - accuracy: 0.8726 - val_loss: 0.5059 - val_accuracy: 0.8059\n",
            "Epoch 11/30\n",
            "625/625 [==============================] - 2s 3ms/step - loss: 0.3285 - accuracy: 0.8727 - val_loss: 0.5446 - val_accuracy: 0.8056\n",
            "Epoch 12/30\n",
            "625/625 [==============================] - 2s 3ms/step - loss: 0.3136 - accuracy: 0.8813 - val_loss: 0.5425 - val_accuracy: 0.8038\n",
            "Epoch 13/30\n",
            "625/625 [==============================] - 2s 3ms/step - loss: 0.3079 - accuracy: 0.8829 - val_loss: 0.5763 - val_accuracy: 0.8004\n",
            "Epoch 14/30\n",
            "625/625 [==============================] - 2s 3ms/step - loss: 0.2955 - accuracy: 0.8877 - val_loss: 0.5932 - val_accuracy: 0.7986\n",
            "Epoch 15/30\n",
            "625/625 [==============================] - 2s 3ms/step - loss: 0.2923 - accuracy: 0.8874 - val_loss: 0.6481 - val_accuracy: 0.7965\n",
            "Epoch 16/30\n",
            "625/625 [==============================] - 2s 3ms/step - loss: 0.2800 - accuracy: 0.8949 - val_loss: 0.7151 - val_accuracy: 0.7992\n",
            "Epoch 17/30\n",
            "625/625 [==============================] - 2s 3ms/step - loss: 0.2780 - accuracy: 0.8932 - val_loss: 0.7804 - val_accuracy: 0.7973\n",
            "Epoch 18/30\n",
            "625/625 [==============================] - 2s 3ms/step - loss: 0.2669 - accuracy: 0.8972 - val_loss: 0.8010 - val_accuracy: 0.7915\n",
            "Epoch 19/30\n",
            "625/625 [==============================] - 2s 3ms/step - loss: 0.2565 - accuracy: 0.9021 - val_loss: 0.8760 - val_accuracy: 0.7916\n",
            "Epoch 20/30\n",
            "625/625 [==============================] - 2s 3ms/step - loss: 0.2547 - accuracy: 0.9028 - val_loss: 0.8641 - val_accuracy: 0.7882\n",
            "Epoch 21/30\n",
            "625/625 [==============================] - 2s 3ms/step - loss: 0.2501 - accuracy: 0.9054 - val_loss: 0.8640 - val_accuracy: 0.7885\n",
            "Epoch 22/30\n",
            "625/625 [==============================] - 2s 3ms/step - loss: 0.2444 - accuracy: 0.9082 - val_loss: 0.9510 - val_accuracy: 0.7931\n",
            "Epoch 23/30\n",
            "625/625 [==============================] - 2s 3ms/step - loss: 0.2380 - accuracy: 0.9078 - val_loss: 1.0508 - val_accuracy: 0.7937\n",
            "Epoch 24/30\n",
            "625/625 [==============================] - 2s 3ms/step - loss: 0.2360 - accuracy: 0.9105 - val_loss: 1.0174 - val_accuracy: 0.7922\n",
            "Epoch 25/30\n",
            "625/625 [==============================] - 2s 3ms/step - loss: 0.2290 - accuracy: 0.9115 - val_loss: 1.1127 - val_accuracy: 0.7910\n",
            "Epoch 26/30\n",
            "625/625 [==============================] - 2s 3ms/step - loss: 0.2259 - accuracy: 0.9129 - val_loss: 1.2007 - val_accuracy: 0.7886\n",
            "Epoch 27/30\n",
            "625/625 [==============================] - 2s 3ms/step - loss: 0.2215 - accuracy: 0.9147 - val_loss: 1.2790 - val_accuracy: 0.7876\n",
            "Epoch 28/30\n",
            "625/625 [==============================] - 2s 3ms/step - loss: 0.2184 - accuracy: 0.9161 - val_loss: 1.3524 - val_accuracy: 0.7894\n",
            "Epoch 29/30\n",
            "625/625 [==============================] - 2s 3ms/step - loss: 0.2139 - accuracy: 0.9180 - val_loss: 1.3278 - val_accuracy: 0.7897\n",
            "Epoch 30/30\n",
            "625/625 [==============================] - 2s 3ms/step - loss: 0.2170 - accuracy: 0.9162 - val_loss: 1.2218 - val_accuracy: 0.7831\n"
          ]
        }
      ],
      "source": [
        "num_epochs = 30\n",
        "history = model.fit(training_padded, training_labels, epochs=num_epochs, validation_data=(testing_padded, testing_labels))"
      ]
    },
    {
      "cell_type": "code",
      "execution_count": 12,
      "metadata": {},
      "outputs": [
        {
          "name": "stderr",
          "output_type": "stream",
          "text": [
            "/home/blank/miniconda3/envs/tf/lib/python3.9/site-packages/keras/src/engine/training.py:3000: UserWarning: You are saving your model as an HDF5 file via `model.save()`. This file format is considered legacy. We recommend using instead the native Keras format, e.g. `model.save('my_model.keras')`.\n",
            "  saving_api.save_model(\n"
          ]
        }
      ],
      "source": [
        "model.save('model.h5')"
      ]
    },
    {
      "cell_type": "code",
      "execution_count": null,
      "metadata": {},
      "outputs": [],
      "source": []
    }
  ],
  "metadata": {
    "accelerator": "GPU",
    "colab": {
      "provenance": []
    },
    "kernelspec": {
      "display_name": "Python 3",
      "name": "python3"
    },
    "language_info": {
      "codemirror_mode": {
        "name": "ipython",
        "version": 3
      },
      "file_extension": ".py",
      "mimetype": "text/x-python",
      "name": "python",
      "nbconvert_exporter": "python",
      "pygments_lexer": "ipython3",
      "version": "3.9.18"
    }
  },
  "nbformat": 4,
  "nbformat_minor": 0
}
