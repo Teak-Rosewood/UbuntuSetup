{
  "cells": [
    {
      "cell_type": "code",
      "execution_count": 1,
      "metadata": {
        "id": "zX4Kg8DUTKWO"
      },
      "outputs": [],
      "source": [
        "#@title Licensed under the Apache License, Version 2.0 (the \"License\");\n",
        "# you may not use this file except in compliance with the License.\n",
        "# You may obtain a copy of the License at\n",
        "#\n",
        "# https://www.apache.org/licenses/LICENSE-2.0\n",
        "#\n",
        "# Unless required by applicable law or agreed to in writing, software\n",
        "# distributed under the License is distributed on an \"AS IS\" BASIS,\n",
        "# WITHOUT WARRANTIES OR CONDITIONS OF ANY KIND, either express or implied.\n",
        "# See the License for the specific language governing permissions and\n",
        "# limitations under the License."
      ]
    },
    {
      "cell_type": "markdown",
      "metadata": {
        "id": "view-in-github"
      },
      "source": [
        "<a href=\"https://colab.research.google.com/github/lmoroney/dlaicourse/blob/master/TensorFlow%20In%20Practice/Course%203%20-%20NLP/Course%203%20-%20Week%202%20-%20Lesson%202.ipynb\" target=\"_parent\"><img src=\"https://colab.research.google.com/assets/colab-badge.svg\" alt=\"Open In Colab\"/></a>"
      ]
    },
    {
      "cell_type": "code",
      "execution_count": 2,
      "metadata": {
        "colab": {
          "base_uri": "https://localhost:8080/"
        },
        "id": "4gs9htvM7n_x",
        "outputId": "c7dd7296-8c46-46c0-b1bf-f1a572a8b51b"
      },
      "outputs": [],
      "source": [
        "# Run this to ensure TensorFlow 2.x is used\n",
        "try:\n",
        "  # %tensorflow_version only exists in Colab.\n",
        "  %tensorflow_version 2.x\n",
        "except Exception:\n",
        "  pass"
      ]
    },
    {
      "cell_type": "code",
      "execution_count": 3,
      "metadata": {
        "id": "XYYDvoskkE61"
      },
      "outputs": [
        {
          "name": "stderr",
          "output_type": "stream",
          "text": [
            "2023-11-23 18:20:16.874247: I tensorflow/core/platform/cpu_feature_guard.cc:182] This TensorFlow binary is optimized to use available CPU instructions in performance-critical operations.\n",
            "To enable the following instructions: AVX2 FMA, in other operations, rebuild TensorFlow with the appropriate compiler flags.\n",
            "2023-11-23 18:20:18.019025: W tensorflow/compiler/tf2tensorrt/utils/py_utils.cc:38] TF-TRT Warning: Could not find TensorRT\n"
          ]
        }
      ],
      "source": [
        "import json\n",
        "import tensorflow as tf\n",
        "\n",
        "from tensorflow.keras.preprocessing.text import Tokenizer\n",
        "from tensorflow.keras.preprocessing.sequence import pad_sequences"
      ]
    },
    {
      "cell_type": "code",
      "execution_count": 14,
      "metadata": {
        "id": "0eJSTTYnkJQd"
      },
      "outputs": [],
      "source": [
        "vocab_size = 1000\n",
        "embedding_dim = 16\n",
        "max_length = 120\n",
        "trunc_type='post'\n",
        "padding_type='post'\n",
        "oov_tok = \"<OOV>\"\n",
        "training_size = 20000\n"
      ]
    },
    {
      "cell_type": "code",
      "execution_count": 15,
      "metadata": {
        "colab": {
          "base_uri": "https://localhost:8080/",
          "height": 385
        },
        "id": "oaLaaqhNkUPd",
        "outputId": "5e1e992e-f433-42bf-a264-5d3b7ff1495c"
      },
      "outputs": [],
      "source": [
        "with open(\"sarcasm.json\", 'r') as f:\n",
        "    datastore = json.load(f)\n",
        "\n",
        "sentences = []\n",
        "labels = []\n",
        "\n",
        "for item in datastore:\n",
        "    sentences.append(item['headline'])\n",
        "    labels.append(item['is_sarcastic'])"
      ]
    },
    {
      "cell_type": "code",
      "execution_count": 16,
      "metadata": {
        "id": "S1sD-7v0kYWk"
      },
      "outputs": [],
      "source": [
        "training_sentences = sentences[0:training_size]\n",
        "testing_sentences = sentences[training_size:]\n",
        "training_labels = labels[0:training_size]\n",
        "testing_labels = labels[training_size:]"
      ]
    },
    {
      "cell_type": "code",
      "execution_count": 17,
      "metadata": {
        "id": "3u8UB0MCkZ5N"
      },
      "outputs": [],
      "source": [
        "tokenizer = Tokenizer(num_words=vocab_size, oov_token=oov_tok)\n",
        "tokenizer.fit_on_texts(training_sentences)\n",
        "\n",
        "word_index = tokenizer.word_index\n",
        "\n",
        "training_sequences = tokenizer.texts_to_sequences(training_sentences)\n",
        "training_padded = pad_sequences(training_sequences, maxlen=max_length, padding=padding_type, truncating=trunc_type)\n",
        "\n",
        "testing_sequences = tokenizer.texts_to_sequences(testing_sentences)\n",
        "testing_padded = pad_sequences(testing_sequences, maxlen=max_length, padding=padding_type, truncating=trunc_type)"
      ]
    },
    {
      "cell_type": "code",
      "execution_count": 18,
      "metadata": {
        "id": "GrAlWBKf99Ya"
      },
      "outputs": [],
      "source": [
        "# Need this block to get it to work with TensorFlow 2.x\n",
        "import numpy as np\n",
        "training_padded = np.array(training_padded)\n",
        "training_labels = np.array(training_labels)\n",
        "testing_padded = np.array(testing_padded)\n",
        "testing_labels = np.array(testing_labels)"
      ]
    },
    {
      "cell_type": "code",
      "execution_count": 19,
      "metadata": {
        "id": "FufaT4vlkiDE"
      },
      "outputs": [],
      "source": [
        "model = tf.keras.Sequential([\n",
        "    tf.keras.layers.Embedding(vocab_size, embedding_dim, input_length=max_length),\n",
        "    tf.keras.layers.GlobalAveragePooling1D(),\n",
        "    tf.keras.layers.Dense(24, activation='relu'),\n",
        "    tf.keras.layers.Dense(1, activation='sigmoid')\n",
        "])\n",
        "model.compile(loss='binary_crossentropy',optimizer='adam',metrics=['accuracy'])"
      ]
    },
    {
      "cell_type": "code",
      "execution_count": 20,
      "metadata": {
        "id": "XfDt1hmYkiys"
      },
      "outputs": [
        {
          "name": "stdout",
          "output_type": "stream",
          "text": [
            "Model: \"sequential_1\"\n",
            "_________________________________________________________________\n",
            " Layer (type)                Output Shape              Param #   \n",
            "=================================================================\n",
            " embedding_1 (Embedding)     (None, 120, 16)           16000     \n",
            "                                                                 \n",
            " global_average_pooling1d_1  (None, 16)                0         \n",
            "  (GlobalAveragePooling1D)                                       \n",
            "                                                                 \n",
            " dense_2 (Dense)             (None, 24)                408       \n",
            "                                                                 \n",
            " dense_3 (Dense)             (None, 1)                 25        \n",
            "                                                                 \n",
            "=================================================================\n",
            "Total params: 16433 (64.19 KB)\n",
            "Trainable params: 16433 (64.19 KB)\n",
            "Non-trainable params: 0 (0.00 Byte)\n",
            "_________________________________________________________________\n"
          ]
        }
      ],
      "source": [
        "model.summary()\n"
      ]
    },
    {
      "cell_type": "code",
      "execution_count": 21,
      "metadata": {
        "id": "2DTKQFf1kkyc"
      },
      "outputs": [
        {
          "name": "stdout",
          "output_type": "stream",
          "text": [
            "Epoch 1/30\n",
            "625/625 [==============================] - 10s 15ms/step - loss: 0.6774 - accuracy: 0.5645 - val_loss: 0.6417 - val_accuracy: 0.6072\n",
            "Epoch 2/30\n",
            "625/625 [==============================] - 2s 3ms/step - loss: 0.5154 - accuracy: 0.7525 - val_loss: 0.4425 - val_accuracy: 0.7979\n",
            "Epoch 3/30\n",
            "625/625 [==============================] - 1s 2ms/step - loss: 0.4092 - accuracy: 0.8152 - val_loss: 0.4146 - val_accuracy: 0.8119\n",
            "Epoch 4/30\n",
            "625/625 [==============================] - 1s 2ms/step - loss: 0.3855 - accuracy: 0.8248 - val_loss: 0.4171 - val_accuracy: 0.8043\n",
            "Epoch 5/30\n",
            "625/625 [==============================] - 1s 2ms/step - loss: 0.3726 - accuracy: 0.8295 - val_loss: 0.4036 - val_accuracy: 0.8152\n",
            "Epoch 6/30\n",
            "625/625 [==============================] - 1s 2ms/step - loss: 0.3656 - accuracy: 0.8340 - val_loss: 0.4017 - val_accuracy: 0.8140\n",
            "Epoch 7/30\n",
            "625/625 [==============================] - 1s 2ms/step - loss: 0.3618 - accuracy: 0.8341 - val_loss: 0.4024 - val_accuracy: 0.8111\n",
            "Epoch 8/30\n",
            "625/625 [==============================] - 1s 2ms/step - loss: 0.3595 - accuracy: 0.8355 - val_loss: 0.4021 - val_accuracy: 0.8122\n",
            "Epoch 9/30\n",
            "625/625 [==============================] - 1s 2ms/step - loss: 0.3565 - accuracy: 0.8377 - val_loss: 0.4066 - val_accuracy: 0.8109\n",
            "Epoch 10/30\n",
            "625/625 [==============================] - 2s 3ms/step - loss: 0.3538 - accuracy: 0.8396 - val_loss: 0.4032 - val_accuracy: 0.8146\n",
            "Epoch 11/30\n",
            "625/625 [==============================] - 1s 2ms/step - loss: 0.3542 - accuracy: 0.8376 - val_loss: 0.4162 - val_accuracy: 0.8104\n",
            "Epoch 12/30\n",
            "625/625 [==============================] - 1s 2ms/step - loss: 0.3529 - accuracy: 0.8392 - val_loss: 0.4221 - val_accuracy: 0.8043\n",
            "Epoch 13/30\n",
            "625/625 [==============================] - 1s 2ms/step - loss: 0.3523 - accuracy: 0.8385 - val_loss: 0.4066 - val_accuracy: 0.8114\n",
            "Epoch 14/30\n",
            "625/625 [==============================] - 1s 2ms/step - loss: 0.3509 - accuracy: 0.8396 - val_loss: 0.4068 - val_accuracy: 0.8122\n",
            "Epoch 15/30\n",
            "625/625 [==============================] - 1s 2ms/step - loss: 0.3499 - accuracy: 0.8405 - val_loss: 0.4133 - val_accuracy: 0.8086\n",
            "Epoch 16/30\n",
            "625/625 [==============================] - 2s 3ms/step - loss: 0.3493 - accuracy: 0.8403 - val_loss: 0.4219 - val_accuracy: 0.8047\n",
            "Epoch 17/30\n",
            "625/625 [==============================] - 1s 2ms/step - loss: 0.3502 - accuracy: 0.8406 - val_loss: 0.4118 - val_accuracy: 0.8107\n",
            "Epoch 18/30\n",
            "625/625 [==============================] - 1s 2ms/step - loss: 0.3509 - accuracy: 0.8394 - val_loss: 0.4098 - val_accuracy: 0.8106\n",
            "Epoch 19/30\n",
            "625/625 [==============================] - 1s 2ms/step - loss: 0.3488 - accuracy: 0.8425 - val_loss: 0.4127 - val_accuracy: 0.8100\n",
            "Epoch 20/30\n",
            "625/625 [==============================] - 1s 2ms/step - loss: 0.3497 - accuracy: 0.8406 - val_loss: 0.4190 - val_accuracy: 0.8059\n",
            "Epoch 21/30\n",
            "625/625 [==============================] - 2s 2ms/step - loss: 0.3486 - accuracy: 0.8399 - val_loss: 0.4115 - val_accuracy: 0.8134\n",
            "Epoch 22/30\n",
            "625/625 [==============================] - 1s 2ms/step - loss: 0.3484 - accuracy: 0.8407 - val_loss: 0.4314 - val_accuracy: 0.8044\n",
            "Epoch 23/30\n",
            "625/625 [==============================] - 1s 2ms/step - loss: 0.3474 - accuracy: 0.8399 - val_loss: 0.4111 - val_accuracy: 0.8134\n",
            "Epoch 24/30\n",
            "625/625 [==============================] - 1s 2ms/step - loss: 0.3472 - accuracy: 0.8411 - val_loss: 0.4118 - val_accuracy: 0.8122\n",
            "Epoch 25/30\n",
            "625/625 [==============================] - 1s 2ms/step - loss: 0.3475 - accuracy: 0.8407 - val_loss: 0.4242 - val_accuracy: 0.8034\n",
            "Epoch 26/30\n",
            "625/625 [==============================] - 1s 2ms/step - loss: 0.3472 - accuracy: 0.8411 - val_loss: 0.4132 - val_accuracy: 0.8125\n",
            "Epoch 27/30\n",
            "625/625 [==============================] - 1s 2ms/step - loss: 0.3481 - accuracy: 0.8421 - val_loss: 0.4176 - val_accuracy: 0.8074\n",
            "Epoch 28/30\n",
            "625/625 [==============================] - 1s 2ms/step - loss: 0.3481 - accuracy: 0.8421 - val_loss: 0.4133 - val_accuracy: 0.8119\n",
            "Epoch 29/30\n",
            "625/625 [==============================] - 1s 2ms/step - loss: 0.3479 - accuracy: 0.8412 - val_loss: 0.4133 - val_accuracy: 0.8110\n",
            "Epoch 30/30\n",
            "625/625 [==============================] - 1s 2ms/step - loss: 0.3468 - accuracy: 0.8415 - val_loss: 0.4191 - val_accuracy: 0.8059\n"
          ]
        }
      ],
      "source": [
        "num_epochs = 30\n",
        "history = model.fit(training_padded, training_labels, epochs=num_epochs, validation_data=(testing_padded, testing_labels))"
      ]
    },
    {
      "cell_type": "code",
      "execution_count": null,
      "metadata": {
        "id": "2HYfBKXjkmU8"
      },
      "outputs": [],
      "source": [
        "import matplotlib.pyplot as plt\n",
        "\n",
        "\n",
        "def plot_graphs(history, string):\n",
        "  plt.plot(history.history[string])\n",
        "  plt.plot(history.history['val_'+string])\n",
        "  plt.xlabel(\"Epochs\")\n",
        "  plt.ylabel(string)\n",
        "  plt.legend([string, 'val_'+string])\n",
        "  plt.show()\n",
        "\n",
        "plot_graphs(history, \"accuracy\")\n",
        "plot_graphs(history, \"loss\")"
      ]
    },
    {
      "cell_type": "code",
      "execution_count": null,
      "metadata": {
        "id": "7SBdAZAenvzL"
      },
      "outputs": [],
      "source": [
        "reverse_word_index = dict([(value, key) for (key, value) in word_index.items()])\n",
        "\n",
        "def decode_sentence(text):\n",
        "    return ' '.join([reverse_word_index.get(i, '?') for i in text])\n",
        "\n",
        "print(decode_sentence(training_padded[0]))\n",
        "print(training_sentences[2])\n",
        "print(labels[2])"
      ]
    },
    {
      "cell_type": "code",
      "execution_count": null,
      "metadata": {
        "id": "c9MqihtEkzQ9"
      },
      "outputs": [],
      "source": [
        "e = model.layers[0]\n",
        "weights = e.get_weights()[0]\n",
        "print(weights.shape) # shape: (vocab_size, embedding_dim)\n"
      ]
    },
    {
      "cell_type": "code",
      "execution_count": null,
      "metadata": {
        "id": "LoBXVffknldU"
      },
      "outputs": [],
      "source": [
        "import io\n",
        "\n",
        "out_v = io.open('vecs.tsv', 'w', encoding='utf-8')\n",
        "out_m = io.open('meta.tsv', 'w', encoding='utf-8')\n",
        "for word_num in range(1, vocab_size):\n",
        "  word = reverse_word_index[word_num]\n",
        "  embeddings = weights[word_num]\n",
        "  out_m.write(word + \"\\n\")\n",
        "  out_v.write('\\t'.join([str(x) for x in embeddings]) + \"\\n\")\n",
        "out_v.close()\n",
        "out_m.close()"
      ]
    },
    {
      "cell_type": "code",
      "execution_count": null,
      "metadata": {
        "id": "U4eZ5HtVnnEE"
      },
      "outputs": [],
      "source": [
        "try:\n",
        "  from google.colab import files\n",
        "except ImportError:\n",
        "  pass\n",
        "else:\n",
        "  files.download('vecs.tsv')\n",
        "  files.download('meta.tsv')"
      ]
    },
    {
      "cell_type": "code",
      "execution_count": null,
      "metadata": {
        "id": "cG8-ArY-qDcz"
      },
      "outputs": [],
      "source": [
        "sentence = [\"granny starting to fear spiders in the garden might be real\", \"game of thrones season finale showing this sunday night\"]\n",
        "sequences = tokenizer.texts_to_sequences(sentence)\n",
        "padded = pad_sequences(sequences, maxlen=max_length, padding=padding_type, truncating=trunc_type)\n",
        "print(model.predict(padded))"
      ]
    },
    {
      "cell_type": "code",
      "execution_count": 22,
      "metadata": {},
      "outputs": [],
      "source": [
        "model.save('model.h5')"
      ]
    },
    {
      "cell_type": "code",
      "execution_count": null,
      "metadata": {},
      "outputs": [],
      "source": []
    }
  ],
  "metadata": {
    "accelerator": "GPU",
    "colab": {
      "provenance": []
    },
    "kernelspec": {
      "display_name": "Python 3",
      "name": "python3"
    },
    "language_info": {
      "codemirror_mode": {
        "name": "ipython",
        "version": 3
      },
      "file_extension": ".py",
      "mimetype": "text/x-python",
      "name": "python",
      "nbconvert_exporter": "python",
      "pygments_lexer": "ipython3",
      "version": "3.9.18"
    }
  },
  "nbformat": 4,
  "nbformat_minor": 0
}
