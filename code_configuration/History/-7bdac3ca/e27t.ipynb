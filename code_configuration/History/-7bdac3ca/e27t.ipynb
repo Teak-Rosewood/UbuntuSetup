{
 "cells": [
  {
   "cell_type": "code",
   "execution_count": 1,
   "metadata": {},
   "outputs": [],
   "source": [
    "# Setting up Imports \n",
    "\n",
    "import os \n",
    "os.environ['TF_CPP_MIN_LOG_LEVEL'] = '3'\n",
    "import tensorflow as tf\n",
    "import numpy as np\n",
    "import pandas as pd\n",
    "import seaborn as sns"
   ]
  },
  {
   "cell_type": "code",
   "execution_count": 2,
   "metadata": {},
   "outputs": [],
   "source": [
    "# Setting up Model Thresholds\n",
    "\n",
    "model_memory_threshold = 60 # in KB"
   ]
  },
  {
   "cell_type": "code",
   "execution_count": 3,
   "metadata": {},
   "outputs": [
    {
     "data": {
      "text/plain": [
       "['2.keras', '0.keras', '1.keras']"
      ]
     },
     "execution_count": 3,
     "metadata": {},
     "output_type": "execute_result"
    }
   ],
   "source": [
    "# Setting up Model Directories\n",
    "\n",
    "models_dir = '../models/session1'\n",
    "models = os.listdir(models_dir)\n",
    "models"
   ]
  },
  {
   "cell_type": "code",
   "execution_count": 24,
   "metadata": {},
   "outputs": [],
   "source": [
    "# Get data\n",
    "\n",
    "def get_data(input_shape):\n",
    "    sample_nums = 1\n",
    "    dims = [sample_nums]\n",
    "    dims = dims + list(input_shape[:-1])\n",
    "    data = tf.random.normal(shape = dims)\n",
    "    data = (np.expand_dims(data, axis=-1))\n",
    "    return data"
   ]
  },
  {
   "cell_type": "code",
   "execution_count": 25,
   "metadata": {},
   "outputs": [
    {
     "name": "stdout",
     "output_type": "stream",
     "text": [
      "Memory used: 157524.04070400292 KB\n",
      "Memory used: 135841.83347199878 KB\n",
      "Memory used: 135858.62681600108 KB\n"
     ]
    }
   ],
   "source": [
    "# Model querying\n",
    "\n",
    "for i in models:\n",
    "    model = tf.keras.models.load_model(os.path.join(models_dir, i))\n",
    "    input_dims = (model.layers[0].input_shape[0])[1:]\n",
    "    data = get_data(input_dims)\n",
    "    total = 0\n",
    "    for i in range(1000):\n",
    "        data = get_data(input_dims)\n",
    "        tf.config.experimental.reset_memory_stats('GPU:0')\n",
    "        model.predict(data, verbose=None)\n",
    "        results = tf.config.experimental.get_memory_info('GPU:0')\n",
    "        results = (results[\"peak\"] - results[\"current\"])/1000\n",
    "        total = results + total\n",
    "    results = total / 1000\n",
    "    print(f\"Memory used:\",results,\"KB\")"
   ]
  },
  {
   "cell_type": "code",
   "execution_count": 19,
   "metadata": {},
   "outputs": [
    {
     "data": {
      "text/plain": [
       "{'current': 249048320, 'peak': 249048320}"
      ]
     },
     "execution_count": 19,
     "metadata": {},
     "output_type": "execute_result"
    }
   ],
   "source": [
    "tf.config.experimental.reset_memory_stats('GPU:0')\n",
    "tf.config.experimental.get_memory_info('GPU:0')"
   ]
  },
  {
   "cell_type": "code",
   "execution_count": 26,
   "metadata": {},
   "outputs": [
    {
     "ename": "AttributeError",
     "evalue": "'str' object has no attribute 'call'",
     "output_type": "error",
     "traceback": [
      "\u001b[0;31m---------------------------------------------------------------------------\u001b[0m",
      "\u001b[0;31mAttributeError\u001b[0m                            Traceback (most recent call last)",
      "\u001b[1;32m/home/blank/projects/eegnet/results/validation and plotting/results.ipynb Cell 7\u001b[0m line \u001b[0;36m2\n\u001b[1;32m      <a href='vscode-notebook-cell:/home/blank/projects/eegnet/results/validation%20and%20plotting/results.ipynb#X20sZmlsZQ%3D%3D?line=0'>1</a>\u001b[0m converter \u001b[39m=\u001b[39m tf\u001b[39m.\u001b[39mlite\u001b[39m.\u001b[39mTFLiteConverter\u001b[39m.\u001b[39mfrom_keras_model(models[\u001b[39m0\u001b[39m])\n\u001b[0;32m----> <a href='vscode-notebook-cell:/home/blank/projects/eegnet/results/validation%20and%20plotting/results.ipynb#X20sZmlsZQ%3D%3D?line=1'>2</a>\u001b[0m tflite_model \u001b[39m=\u001b[39m converter\u001b[39m.\u001b[39;49mconvert()\n\u001b[1;32m      <a href='vscode-notebook-cell:/home/blank/projects/eegnet/results/validation%20and%20plotting/results.ipynb#X20sZmlsZQ%3D%3D?line=3'>4</a>\u001b[0m     \u001b[39m# Save the model.\u001b[39;00m\n\u001b[1;32m      <a href='vscode-notebook-cell:/home/blank/projects/eegnet/results/validation%20and%20plotting/results.ipynb#X20sZmlsZQ%3D%3D?line=4'>5</a>\u001b[0m \u001b[39mwith\u001b[39;00m \u001b[39mopen\u001b[39m(\u001b[39m'\u001b[39m\u001b[39mmodel.tflite\u001b[39m\u001b[39m'\u001b[39m, \u001b[39m'\u001b[39m\u001b[39mwb\u001b[39m\u001b[39m'\u001b[39m) \u001b[39mas\u001b[39;00m f:\n",
      "File \u001b[0;32m~/miniconda3/envs/tf/lib/python3.9/site-packages/tensorflow/lite/python/lite.py:1065\u001b[0m, in \u001b[0;36m_export_metrics.<locals>.wrapper\u001b[0;34m(self, *args, **kwargs)\u001b[0m\n\u001b[1;32m   1062\u001b[0m \u001b[39m@functools\u001b[39m\u001b[39m.\u001b[39mwraps(convert_func)\n\u001b[1;32m   1063\u001b[0m \u001b[39mdef\u001b[39;00m \u001b[39mwrapper\u001b[39m(\u001b[39mself\u001b[39m, \u001b[39m*\u001b[39margs, \u001b[39m*\u001b[39m\u001b[39m*\u001b[39mkwargs):\n\u001b[1;32m   1064\u001b[0m   \u001b[39m# pylint: disable=protected-access\u001b[39;00m\n\u001b[0;32m-> 1065\u001b[0m   \u001b[39mreturn\u001b[39;00m \u001b[39mself\u001b[39;49m\u001b[39m.\u001b[39;49m_convert_and_export_metrics(convert_func, \u001b[39m*\u001b[39;49margs, \u001b[39m*\u001b[39;49m\u001b[39m*\u001b[39;49mkwargs)\n",
      "File \u001b[0;32m~/miniconda3/envs/tf/lib/python3.9/site-packages/tensorflow/lite/python/lite.py:1042\u001b[0m, in \u001b[0;36mTFLiteConverterBase._convert_and_export_metrics\u001b[0;34m(self, convert_func, *args, **kwargs)\u001b[0m\n\u001b[1;32m   1040\u001b[0m \u001b[39mself\u001b[39m\u001b[39m.\u001b[39m_save_conversion_params_metric()\n\u001b[1;32m   1041\u001b[0m start_time \u001b[39m=\u001b[39m time\u001b[39m.\u001b[39mprocess_time()\n\u001b[0;32m-> 1042\u001b[0m result \u001b[39m=\u001b[39m convert_func(\u001b[39mself\u001b[39;49m, \u001b[39m*\u001b[39;49margs, \u001b[39m*\u001b[39;49m\u001b[39m*\u001b[39;49mkwargs)\n\u001b[1;32m   1043\u001b[0m elapsed_time_ms \u001b[39m=\u001b[39m (time\u001b[39m.\u001b[39mprocess_time() \u001b[39m-\u001b[39m start_time) \u001b[39m*\u001b[39m \u001b[39m1000\u001b[39m\n\u001b[1;32m   1044\u001b[0m \u001b[39mif\u001b[39;00m result:\n",
      "File \u001b[0;32m~/miniconda3/envs/tf/lib/python3.9/site-packages/tensorflow/lite/python/lite.py:1531\u001b[0m, in \u001b[0;36mTFLiteKerasModelConverterV2.convert\u001b[0;34m(self)\u001b[0m\n\u001b[1;32m   1527\u001b[0m \u001b[39mif\u001b[39;00m saved_model_convert_result:\n\u001b[1;32m   1528\u001b[0m   \u001b[39mreturn\u001b[39;00m saved_model_convert_result\n\u001b[1;32m   1530\u001b[0m graph_def, input_tensors, output_tensors, frozen_func \u001b[39m=\u001b[39m (\n\u001b[0;32m-> 1531\u001b[0m     \u001b[39mself\u001b[39;49m\u001b[39m.\u001b[39;49m_freeze_keras_model()\n\u001b[1;32m   1532\u001b[0m )\n\u001b[1;32m   1534\u001b[0m graph_def \u001b[39m=\u001b[39m \u001b[39mself\u001b[39m\u001b[39m.\u001b[39m_optimize_tf_model(\n\u001b[1;32m   1535\u001b[0m     graph_def, input_tensors, output_tensors, frozen_func\n\u001b[1;32m   1536\u001b[0m )\n\u001b[1;32m   1538\u001b[0m \u001b[39mreturn\u001b[39;00m \u001b[39msuper\u001b[39m(TFLiteKerasModelConverterV2, \u001b[39mself\u001b[39m)\u001b[39m.\u001b[39mconvert(\n\u001b[1;32m   1539\u001b[0m     graph_def, input_tensors, output_tensors\n\u001b[1;32m   1540\u001b[0m )\n",
      "File \u001b[0;32m~/miniconda3/envs/tf/lib/python3.9/site-packages/tensorflow/lite/python/convert_phase.py:215\u001b[0m, in \u001b[0;36mconvert_phase.<locals>.actual_decorator.<locals>.wrapper\u001b[0;34m(*args, **kwargs)\u001b[0m\n\u001b[1;32m    213\u001b[0m \u001b[39mexcept\u001b[39;00m \u001b[39mException\u001b[39;00m \u001b[39mas\u001b[39;00m error:\n\u001b[1;32m    214\u001b[0m   report_error_message(\u001b[39mstr\u001b[39m(error))\n\u001b[0;32m--> 215\u001b[0m   \u001b[39mraise\u001b[39;00m error \u001b[39mfrom\u001b[39;00m \u001b[39mNone\u001b[39m\n",
      "File \u001b[0;32m~/miniconda3/envs/tf/lib/python3.9/site-packages/tensorflow/lite/python/convert_phase.py:205\u001b[0m, in \u001b[0;36mconvert_phase.<locals>.actual_decorator.<locals>.wrapper\u001b[0;34m(*args, **kwargs)\u001b[0m\n\u001b[1;32m    202\u001b[0m \u001b[39m@functools\u001b[39m\u001b[39m.\u001b[39mwraps(func)\n\u001b[1;32m    203\u001b[0m \u001b[39mdef\u001b[39;00m \u001b[39mwrapper\u001b[39m(\u001b[39m*\u001b[39margs, \u001b[39m*\u001b[39m\u001b[39m*\u001b[39mkwargs):\n\u001b[1;32m    204\u001b[0m   \u001b[39mtry\u001b[39;00m:\n\u001b[0;32m--> 205\u001b[0m     \u001b[39mreturn\u001b[39;00m func(\u001b[39m*\u001b[39;49margs, \u001b[39m*\u001b[39;49m\u001b[39m*\u001b[39;49mkwargs)\n\u001b[1;32m    206\u001b[0m   \u001b[39mexcept\u001b[39;00m ConverterError \u001b[39mas\u001b[39;00m converter_error:\n\u001b[1;32m    207\u001b[0m     \u001b[39mif\u001b[39;00m converter_error\u001b[39m.\u001b[39merrors:\n",
      "File \u001b[0;32m~/miniconda3/envs/tf/lib/python3.9/site-packages/tensorflow/lite/python/lite.py:1468\u001b[0m, in \u001b[0;36mTFLiteKerasModelConverterV2._freeze_keras_model\u001b[0;34m(self)\u001b[0m\n\u001b[1;32m   1462\u001b[0m input_signature \u001b[39m=\u001b[39m \u001b[39mNone\u001b[39;00m\n\u001b[1;32m   1463\u001b[0m \u001b[39m# If the model's call is not a `tf.function`, then we need to first get its\u001b[39;00m\n\u001b[1;32m   1464\u001b[0m \u001b[39m# input signature from `model_input_signature` method. We can't directly\u001b[39;00m\n\u001b[1;32m   1465\u001b[0m \u001b[39m# call `trace_model_call` because otherwise the batch dimension is set\u001b[39;00m\n\u001b[1;32m   1466\u001b[0m \u001b[39m# to None.\u001b[39;00m\n\u001b[1;32m   1467\u001b[0m \u001b[39m# Once we have better support for dynamic shapes, we can remove this.\u001b[39;00m\n\u001b[0;32m-> 1468\u001b[0m \u001b[39mif\u001b[39;00m \u001b[39mnot\u001b[39;00m \u001b[39misinstance\u001b[39m(\u001b[39mself\u001b[39;49m\u001b[39m.\u001b[39;49m_keras_model\u001b[39m.\u001b[39;49mcall, _def_function\u001b[39m.\u001b[39mFunction):\n\u001b[1;32m   1469\u001b[0m   \u001b[39m# Pass `keep_original_batch_size=True` will ensure that we get an input\u001b[39;00m\n\u001b[1;32m   1470\u001b[0m   \u001b[39m# signature including the batch dimension specified by the user.\u001b[39;00m\n\u001b[1;32m   1471\u001b[0m   \u001b[39m# TODO(b/169898786): Use the Keras public API when TFLite moves out of TF\u001b[39;00m\n\u001b[1;32m   1472\u001b[0m   input_signature \u001b[39m=\u001b[39m _model_input_signature(\n\u001b[1;32m   1473\u001b[0m       \u001b[39mself\u001b[39m\u001b[39m.\u001b[39m_keras_model, keep_original_batch_size\u001b[39m=\u001b[39m\u001b[39mTrue\u001b[39;00m\n\u001b[1;32m   1474\u001b[0m   )\n\u001b[1;32m   1476\u001b[0m \u001b[39m# TODO(b/169898786): Use the Keras public API when TFLite moves out of TF\u001b[39;00m\n",
      "\u001b[0;31mAttributeError\u001b[0m: 'str' object has no attribute 'call'"
     ]
    }
   ],
   "source": [
    "converter = tf.lite.TFLiteConverter.from_keras_model(os.path.join(models_dir, models[0]))\n",
    "tflite_model = converter.convert()\n",
    "\n",
    "    # Save the model.\n",
    "with open('model.tflite', 'wb') as f:\n",
    "    f.write(tflite_model)"
   ]
  },
  {
   "cell_type": "code",
   "execution_count": null,
   "metadata": {},
   "outputs": [],
   "source": []
  }
 ],
 "metadata": {
  "kernelspec": {
   "display_name": "tf",
   "language": "python",
   "name": "python3"
  },
  "language_info": {
   "codemirror_mode": {
    "name": "ipython",
    "version": 3
   },
   "file_extension": ".py",
   "mimetype": "text/x-python",
   "name": "python",
   "nbconvert_exporter": "python",
   "pygments_lexer": "ipython3",
   "version": "3.9.18"
  }
 },
 "nbformat": 4,
 "nbformat_minor": 2
}
