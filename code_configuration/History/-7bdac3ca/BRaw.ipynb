{
 "cells": [
  {
   "cell_type": "code",
   "execution_count": 1,
   "metadata": {},
   "outputs": [],
   "source": [
    "# Setting up Imports \n",
    "\n",
    "import os \n",
    "os.environ['TF_CPP_MIN_LOG_LEVEL'] = '3'\n",
    "import tensorflow as tf\n",
    "import numpy as np\n",
    "import pandas as pd\n",
    "import seaborn as sns"
   ]
  },
  {
   "cell_type": "code",
   "execution_count": 2,
   "metadata": {},
   "outputs": [],
   "source": [
    "# Setting up Model Thresholds\n",
    "\n",
    "model_memory_threshold = 60 # in KB"
   ]
  },
  {
   "cell_type": "code",
   "execution_count": 3,
   "metadata": {},
   "outputs": [
    {
     "data": {
      "text/plain": [
       "['2.keras', '0.keras', '1.keras']"
      ]
     },
     "execution_count": 3,
     "metadata": {},
     "output_type": "execute_result"
    }
   ],
   "source": [
    "# Setting up Model Directories\n",
    "\n",
    "models_dir = '../models/session1'\n",
    "models = os.listdir(models_dir)\n",
    "models"
   ]
  },
  {
   "cell_type": "code",
   "execution_count": 4,
   "metadata": {},
   "outputs": [],
   "source": [
    "# Get data\n",
    "\n",
    "def get_data(input_shape):\n",
    "    sample_nums = 1\n",
    "    dims = [sample_nums]\n",
    "    dims = dims + list(input_shape[:-1])\n",
    "    data = tf.random.normal(shape = dims)\n",
    "    data = (np.expand_dims(data, axis=-1))\n",
    "    return data"
   ]
  },
  {
   "cell_type": "code",
   "execution_count": 5,
   "metadata": {},
   "outputs": [
    {
     "name": "stdout",
     "output_type": "stream",
     "text": [
      "Memory used: 139599.62368 KB\n",
      "Memory used: 135731.14367999992 KB\n",
      "Memory used: 135731.79903999984 KB\n"
     ]
    }
   ],
   "source": [
    "# Model querying\n",
    "results = []\n",
    "num_samples = 100\n",
    "for i in models:\n",
    "    model = tf.keras.models.load_model(os.path.join(models_dir, i))\n",
    "    input_dims = (model.layers[0].input_shape[0])[1:]\n",
    "    data = get_data(input_dims)\n",
    "    total = 0\n",
    "    for i in range(num_samples):\n",
    "        data = get_data(input_dims)\n",
    "        tf.config.experimental.reset_memory_stats('GPU:0')\n",
    "        result = tf.config.experimental.get_memory_info('GPU:0')\n",
    "        curr = result[\"current\"]\n",
    "        model.predict(data, verbose=None)\n",
    "        result = tf.config.experimental.get_memory_info('GPU:0')\n",
    "        result = (result[\"peak\"] - curr)/1000\n",
    "        total = result + total\n",
    "    result = total / num_samples\n",
    "    results.append(result)\n",
    "    print(f\"Memory used:\",result,\"KB\")\n",
    "print(results)"
   ]
  },
  {
   "cell_type": "code",
   "execution_count": 6,
   "metadata": {},
   "outputs": [
    {
     "data": {
      "text/plain": [
       "{'current': 5614080, 'peak': 5614080}"
      ]
     },
     "execution_count": 6,
     "metadata": {},
     "output_type": "execute_result"
    }
   ],
   "source": [
    "tf.config.experimental.reset_memory_stats('GPU:0')\n",
    "tf.config.experimental.get_memory_info('GPU:0')"
   ]
  },
  {
   "cell_type": "code",
   "execution_count": null,
   "metadata": {},
   "outputs": [],
   "source": []
  }
 ],
 "metadata": {
  "kernelspec": {
   "display_name": "tf",
   "language": "python",
   "name": "python3"
  },
  "language_info": {
   "codemirror_mode": {
    "name": "ipython",
    "version": 3
   },
   "file_extension": ".py",
   "mimetype": "text/x-python",
   "name": "python",
   "nbconvert_exporter": "python",
   "pygments_lexer": "ipython3",
   "version": "3.9.18"
  }
 },
 "nbformat": 4,
 "nbformat_minor": 2
}
