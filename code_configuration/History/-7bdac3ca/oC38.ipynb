{
 "cells": [
  {
   "cell_type": "code",
   "execution_count": 1,
   "metadata": {},
   "outputs": [],
   "source": [
    "# Setting up Imports \n",
    "\n",
    "import os \n",
    "os.environ['TF_CPP_MIN_LOG_LEVEL'] = '3'\n",
    "import tensorflow as tf\n",
    "import numpy as np\n",
    "import pandas as pd\n",
    "import seaborn as sns"
   ]
  },
  {
   "cell_type": "code",
   "execution_count": 6,
   "metadata": {},
   "outputs": [],
   "source": [
    "# Setting up Model Thresholds\n",
    "\n",
    "model_memory_threshold = 60 # in KB"
   ]
  },
  {
   "cell_type": "code",
   "execution_count": 5,
   "metadata": {},
   "outputs": [
    {
     "data": {
      "text/plain": [
       "['2.keras', '0.keras', '1.keras']"
      ]
     },
     "execution_count": 5,
     "metadata": {},
     "output_type": "execute_result"
    }
   ],
   "source": [
    "# Setting up Model Directories\n",
    "\n",
    "models_dir = '../models/session1'\n",
    "models = os.listdir(models_dir)\n",
    "models"
   ]
  },
  {
   "cell_type": "code",
   "execution_count": 38,
   "metadata": {},
   "outputs": [],
   "source": [
    "# Get data\n",
    "\n",
    "def get_data(input_shape):\n",
    "    sample_nums = 100\n",
    "    dims.append(sample_nums)\n",
    "    print(input_shape)\n",
    "    dims = dims + input_shape[:-1]\n",
    "    print(dims)\n",
    "    data =tf.random.normal(shape = dims)\n",
    "    data = (np.expand_dims(data, axis=-1))\n",
    "    return data"
   ]
  },
  {
   "cell_type": "code",
   "execution_count": 40,
   "metadata": {},
   "outputs": [
    {
     "name": "stdout",
     "output_type": "stream",
     "text": [
      "(None, 64, 480, 1)\n"
     ]
    },
    {
     "ename": "ValueError",
     "evalue": "Attempt to convert a value (None) with an unsupported type (<class 'NoneType'>) to a Tensor.",
     "output_type": "error",
     "traceback": [
      "\u001b[0;31m---------------------------------------------------------------------------\u001b[0m",
      "\u001b[0;31mValueError\u001b[0m                                Traceback (most recent call last)",
      "\u001b[1;32m/home/blank/projects/eegnet/results/validation and plotting/results.ipynb Cell 5\u001b[0m line \u001b[0;36m6\n\u001b[1;32m      <a href='vscode-notebook-cell:/home/blank/projects/eegnet/results/validation%20and%20plotting/results.ipynb#W4sZmlsZQ%3D%3D?line=3'>4</a>\u001b[0m model \u001b[39m=\u001b[39m tf\u001b[39m.\u001b[39mkeras\u001b[39m.\u001b[39mmodels\u001b[39m.\u001b[39mload_model(os\u001b[39m.\u001b[39mpath\u001b[39m.\u001b[39mjoin(models_dir, i))\n\u001b[1;32m      <a href='vscode-notebook-cell:/home/blank/projects/eegnet/results/validation%20and%20plotting/results.ipynb#W4sZmlsZQ%3D%3D?line=4'>5</a>\u001b[0m input_dims \u001b[39m=\u001b[39m (model\u001b[39m.\u001b[39mlayers[\u001b[39m0\u001b[39m]\u001b[39m.\u001b[39minput_shape[\u001b[39m0\u001b[39m])\n\u001b[0;32m----> <a href='vscode-notebook-cell:/home/blank/projects/eegnet/results/validation%20and%20plotting/results.ipynb#W4sZmlsZQ%3D%3D?line=5'>6</a>\u001b[0m data \u001b[39m=\u001b[39m get_data(input_dims)\n\u001b[1;32m      <a href='vscode-notebook-cell:/home/blank/projects/eegnet/results/validation%20and%20plotting/results.ipynb#W4sZmlsZQ%3D%3D?line=6'>7</a>\u001b[0m \u001b[39mprint\u001b[39m(data\u001b[39m.\u001b[39mshape)\n",
      "\u001b[1;32m/home/blank/projects/eegnet/results/validation and plotting/results.ipynb Cell 5\u001b[0m line \u001b[0;36m8\n\u001b[1;32m      <a href='vscode-notebook-cell:/home/blank/projects/eegnet/results/validation%20and%20plotting/results.ipynb#W4sZmlsZQ%3D%3D?line=5'>6</a>\u001b[0m dims \u001b[39m=\u001b[39m \u001b[39mlist\u001b[39m(input_shape[:\u001b[39m-\u001b[39m\u001b[39m1\u001b[39m])\n\u001b[1;32m      <a href='vscode-notebook-cell:/home/blank/projects/eegnet/results/validation%20and%20plotting/results.ipynb#W4sZmlsZQ%3D%3D?line=6'>7</a>\u001b[0m dims\u001b[39m.\u001b[39mappend(sample_nums)\n\u001b[0;32m----> <a href='vscode-notebook-cell:/home/blank/projects/eegnet/results/validation%20and%20plotting/results.ipynb#W4sZmlsZQ%3D%3D?line=7'>8</a>\u001b[0m data \u001b[39m=\u001b[39mtf\u001b[39m.\u001b[39;49mrandom\u001b[39m.\u001b[39;49mnormal(shape \u001b[39m=\u001b[39;49m dims)\n\u001b[1;32m      <a href='vscode-notebook-cell:/home/blank/projects/eegnet/results/validation%20and%20plotting/results.ipynb#W4sZmlsZQ%3D%3D?line=8'>9</a>\u001b[0m \u001b[39mreturn\u001b[39;00m data\n",
      "File \u001b[0;32m~/miniconda3/envs/tf/lib/python3.9/site-packages/tensorflow/python/util/traceback_utils.py:153\u001b[0m, in \u001b[0;36mfilter_traceback.<locals>.error_handler\u001b[0;34m(*args, **kwargs)\u001b[0m\n\u001b[1;32m    151\u001b[0m \u001b[39mexcept\u001b[39;00m \u001b[39mException\u001b[39;00m \u001b[39mas\u001b[39;00m e:\n\u001b[1;32m    152\u001b[0m   filtered_tb \u001b[39m=\u001b[39m _process_traceback_frames(e\u001b[39m.\u001b[39m__traceback__)\n\u001b[0;32m--> 153\u001b[0m   \u001b[39mraise\u001b[39;00m e\u001b[39m.\u001b[39mwith_traceback(filtered_tb) \u001b[39mfrom\u001b[39;00m \u001b[39mNone\u001b[39m\n\u001b[1;32m    154\u001b[0m \u001b[39mfinally\u001b[39;00m:\n\u001b[1;32m    155\u001b[0m   \u001b[39mdel\u001b[39;00m filtered_tb\n",
      "File \u001b[0;32m~/miniconda3/envs/tf/lib/python3.9/site-packages/tensorflow/python/framework/constant_op.py:98\u001b[0m, in \u001b[0;36mconvert_to_eager_tensor\u001b[0;34m(value, ctx, dtype)\u001b[0m\n\u001b[1;32m     96\u001b[0m     dtype \u001b[39m=\u001b[39m dtypes\u001b[39m.\u001b[39mas_dtype(dtype)\u001b[39m.\u001b[39mas_datatype_enum\n\u001b[1;32m     97\u001b[0m ctx\u001b[39m.\u001b[39mensure_initialized()\n\u001b[0;32m---> 98\u001b[0m \u001b[39mreturn\u001b[39;00m ops\u001b[39m.\u001b[39;49mEagerTensor(value, ctx\u001b[39m.\u001b[39;49mdevice_name, dtype)\n",
      "\u001b[0;31mValueError\u001b[0m: Attempt to convert a value (None) with an unsupported type (<class 'NoneType'>) to a Tensor."
     ]
    }
   ],
   "source": [
    "# Model querying\n",
    "\n",
    "for i in models:\n",
    "    model = tf.keras.models.load_model(os.path.join(models_dir, i))\n",
    "    input_dims = (model.layers[0].input_shape[0])[1:]\n",
    "    data = get_data(input_dims)\n",
    "    #\n",
    "    #model.predict(data)"
   ]
  },
  {
   "cell_type": "code",
   "execution_count": null,
   "metadata": {},
   "outputs": [],
   "source": []
  }
 ],
 "metadata": {
  "kernelspec": {
   "display_name": "tf",
   "language": "python",
   "name": "python3"
  },
  "language_info": {
   "codemirror_mode": {
    "name": "ipython",
    "version": 3
   },
   "file_extension": ".py",
   "mimetype": "text/x-python",
   "name": "python",
   "nbconvert_exporter": "python",
   "pygments_lexer": "ipython3",
   "version": "3.9.18"
  }
 },
 "nbformat": 4,
 "nbformat_minor": 2
}
