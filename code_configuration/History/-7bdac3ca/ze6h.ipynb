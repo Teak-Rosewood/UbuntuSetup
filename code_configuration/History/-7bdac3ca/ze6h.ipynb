{
 "cells": [
  {
   "cell_type": "code",
   "execution_count": 1,
   "metadata": {},
   "outputs": [],
   "source": [
    "# Setting up Imports \n",
    "\n",
    "import os \n",
    "os.environ['TF_CPP_MIN_LOG_LEVEL'] = '3'\n",
    "import tensorflow as tf\n",
    "import numpy as np\n",
    "import pandas as pd\n",
    "import seaborn as sns"
   ]
  },
  {
   "cell_type": "code",
   "execution_count": 6,
   "metadata": {},
   "outputs": [],
   "source": [
    "# Setting up Model Thresholds\n",
    "\n",
    "model_memory_threshold = 60 # in KB"
   ]
  },
  {
   "cell_type": "code",
   "execution_count": 5,
   "metadata": {},
   "outputs": [
    {
     "data": {
      "text/plain": [
       "['2.keras', '0.keras', '1.keras']"
      ]
     },
     "execution_count": 5,
     "metadata": {},
     "output_type": "execute_result"
    }
   ],
   "source": [
    "# Setting up Model Directories\n",
    "\n",
    "models_dir = '../models/session1'\n",
    "models = os.listdir(models_dir)\n",
    "models"
   ]
  },
  {
   "cell_type": "code",
   "execution_count": 27,
   "metadata": {},
   "outputs": [],
   "source": [
    "# Get data\n",
    "\n",
    "def get_data(input_shape):\n",
    "    sample_nums = 100\n",
    "    dims = list(input_shape[:-1])\n",
    "    dims.append(sample_nums)\n",
    "    data =tf.random.uniform(shape = input_shape)\n",
    "    return data\n",
    "\n",
    "\n",
    "\n"
   ]
  },
  {
   "cell_type": "code",
   "execution_count": 31,
   "metadata": {},
   "outputs": [
    {
     "name": "stdout",
     "output_type": "stream",
     "text": [
      "[64, 480, 100]\n",
      "(64, 480, 1)\n",
      "[64, 480, 100]\n",
      "(64, 480, 1)\n",
      "[64, 480, 100]\n",
      "(64, 480, 1)\n"
     ]
    }
   ],
   "source": [
    "# Model querying\n",
    "\n",
    "for i in models:\n",
    "    model = tf.keras.models.load_model(os.path.join(models_dir, i))\n",
    "    input_dims = (model.layers[0].input_shape[0])[1:]\n",
    "    data = get_data(input_dims)\n",
    "    print(data.shape)"
   ]
  },
  {
   "cell_type": "code",
   "execution_count": null,
   "metadata": {},
   "outputs": [],
   "source": []
  }
 ],
 "metadata": {
  "kernelspec": {
   "display_name": "tf",
   "language": "python",
   "name": "python3"
  },
  "language_info": {
   "codemirror_mode": {
    "name": "ipython",
    "version": 3
   },
   "file_extension": ".py",
   "mimetype": "text/x-python",
   "name": "python",
   "nbconvert_exporter": "python",
   "pygments_lexer": "ipython3",
   "version": "3.9.18"
  }
 },
 "nbformat": 4,
 "nbformat_minor": 2
}
