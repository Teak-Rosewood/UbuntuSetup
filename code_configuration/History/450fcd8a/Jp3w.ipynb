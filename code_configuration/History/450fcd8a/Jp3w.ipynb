{
 "cells": [
  {
   "cell_type": "code",
   "execution_count": 1,
   "metadata": {},
   "outputs": [],
   "source": [
    "import urllib\n",
    "import zipfile\n",
    "import os \n",
    "os.environ['TF_CPP_MIN_LOG_LEVEL'] = '3' \n",
    "import tensorflow as tf\n",
    "from tensorflow.keras import layers\n",
    "from tensorflow.keras.layers import Dense, Input\n",
    "from tensorflow.keras.models import Sequential\n",
    "from keras.applications.vgg16 import VGG16"
   ]
  },
  {
   "cell_type": "code",
   "execution_count": 2,
   "metadata": {},
   "outputs": [],
   "source": [
    "def preprocess(image, label):\n",
    "    # NORMALIZE YOUR IMAGES HERE (HINT: Rescale by 1/.255)\n",
    "    image = tf.cast(image/255. ,tf.float32)\n",
    "    return image, label"
   ]
  },
  {
   "cell_type": "code",
   "execution_count": 3,
   "metadata": {},
   "outputs": [],
   "source": [
    "def solution_model():\n",
    "    # Downloads and extracts the dataset to the directory that\n",
    "    # contains this file.\n",
    "\n",
    "    IMG_SIZE = 128\n",
    "    BATCH_SIZE = 8\n",
    "\n",
    "    # The following code reads the training and validation data from their\n",
    "    # respective directories, resizes them into the specified image size\n",
    "    # and splits them into batches. You must fill in the image_size\n",
    "    # argument for both training and validation data.\n",
    "    # HINT: Image size is a tuple\n",
    "    train_ds = tf.keras.preprocessing.image_dataset_from_directory(\n",
    "        directory='train/',\n",
    "        image_size=(128, 128),# YOUR CODE HERE\n",
    "        batch_size=BATCH_SIZE)\n",
    "\n",
    "    val_ds = tf.keras.preprocessing.image_dataset_from_directory(\n",
    "        directory='validation/',\n",
    "        image_size= (128,128),# YOUR CODE HERE\n",
    "        batch_size=BATCH_SIZE)\n",
    "    \n",
    "    normalization_layer = tf.keras.layers.Rescaling(1./255)\n",
    "    train_ds = train_ds.map(lambda x, y: (normalization_layer(x), y))\n",
    "    val_ds = val_ds.map(lambda x, y: (normalization_layer(x), y))\n",
    "\n",
    "    # Normalizes train and validation datasets using the\n",
    "    # preprocess() function.\n",
    "    # Also makes other calls, as evident from the code, to prepare them for\n",
    "    # training.\n",
    "    # Do not batch or resize the images in the dataset here since it's already\n",
    "    # been done previously.\n",
    "    # train_ds = train_ds.map(\n",
    "    #     preprocess)\n",
    "    # val_ds = val_ds.map(\n",
    "    #     preprocess)\n",
    "\n",
    "    # Code to define the model\n",
    "    # VGG-16\n",
    "\n",
    "    \n",
    "\n",
    "    base_vgg = VGG16(input_shape=(128,128,3), weights='imagenet', include_top=False)\n",
    "    base_vgg.trainable = False\n",
    "    model = tf.keras.Sequential([\n",
    "        base_vgg,\n",
    "        tf.keras.layers.Flatten(),\n",
    "        tf.keras.layers.Dense(1, activation='sigmoid')\n",
    "    ])\n",
    "\n",
    "\n",
    "\n",
    "    # Code to compile and train the model\n",
    "    model.compile(optimizer=tf.optimizers.Adam(), \n",
    "                  loss='binary_crossentropy',\n",
    "                    metrics='accuracy')\n",
    "\n",
    "    history = model.fit(\n",
    "        train_ds,\n",
    "        batch_size=BATCH_SIZE,\n",
    "        validation_data=val_ds,\n",
    "        epochs=10\n",
    "    )\n",
    "\n",
    "    return model"
   ]
  },
  {
   "cell_type": "code",
   "execution_count": 4,
   "metadata": {},
   "outputs": [
    {
     "name": "stdout",
     "output_type": "stream",
     "text": [
      "Found 10000 files belonging to 2 classes.\n",
      "Found 2000 files belonging to 2 classes.\n",
      "Downloading data from https://storage.googleapis.com/tensorflow/keras-applications/vgg16/vgg16_weights_tf_dim_ordering_tf_kernels_notop.h5\n",
      "58889256/58889256 [==============================] - 4s 0us/step\n",
      "Epoch 1/10\n",
      "1250/1250 [==============================] - 35s 26ms/step - loss: 0.2571 - accuracy: 0.8955 - val_loss: 0.2052 - val_accuracy: 0.9220\n",
      "Epoch 2/10\n",
      "1250/1250 [==============================] - 33s 26ms/step - loss: 0.1889 - accuracy: 0.9233 - val_loss: 0.1930 - val_accuracy: 0.9315\n",
      "Epoch 3/10\n",
      "1250/1250 [==============================] - 33s 27ms/step - loss: 0.1603 - accuracy: 0.9382 - val_loss: 0.1905 - val_accuracy: 0.9340\n",
      "Epoch 4/10\n",
      "1250/1250 [==============================] - 33s 27ms/step - loss: 0.1486 - accuracy: 0.9410 - val_loss: 0.1942 - val_accuracy: 0.9290\n",
      "Epoch 5/10\n",
      "1250/1250 [==============================] - 33s 27ms/step - loss: 0.1322 - accuracy: 0.9484 - val_loss: 0.1904 - val_accuracy: 0.9355\n",
      "Epoch 6/10\n",
      "1250/1250 [==============================] - 33s 27ms/step - loss: 0.1212 - accuracy: 0.9537 - val_loss: 0.2284 - val_accuracy: 0.9120\n",
      "Epoch 7/10\n",
      "1250/1250 [==============================] - 34s 27ms/step - loss: 0.1103 - accuracy: 0.9573 - val_loss: 0.1998 - val_accuracy: 0.9335\n",
      "Epoch 8/10\n",
      "1250/1250 [==============================] - 34s 27ms/step - loss: 0.1017 - accuracy: 0.9633 - val_loss: 0.2042 - val_accuracy: 0.9335\n",
      "Epoch 9/10\n",
      "1250/1250 [==============================] - 34s 27ms/step - loss: 0.0943 - accuracy: 0.9641 - val_loss: 0.1918 - val_accuracy: 0.9335\n",
      "Epoch 10/10\n",
      "1250/1250 [==============================] - 34s 27ms/step - loss: 0.0887 - accuracy: 0.9682 - val_loss: 0.1971 - val_accuracy: 0.9295\n"
     ]
    },
    {
     "name": "stderr",
     "output_type": "stream",
     "text": [
      "/home/blank/miniconda3/envs/tf/lib/python3.9/site-packages/keras/src/engine/training.py:3000: UserWarning: You are saving your model as an HDF5 file via `model.save()`. This file format is considered legacy. We recommend using instead the native Keras format, e.g. `model.save('my_model.keras')`.\n",
      "  saving_api.save_model(\n"
     ]
    }
   ],
   "source": [
    "if __name__ == '__main__':\n",
    "    model = solution_model()\n",
    "    model.save(\"mymodel.h5\")"
   ]
  },
  {
   "cell_type": "code",
   "execution_count": null,
   "metadata": {},
   "outputs": [],
   "source": []
  }
 ],
 "metadata": {
  "kernelspec": {
   "display_name": "tf",
   "language": "python",
   "name": "python3"
  },
  "language_info": {
   "codemirror_mode": {
    "name": "ipython",
    "version": 3
   },
   "file_extension": ".py",
   "mimetype": "text/x-python",
   "name": "python",
   "nbconvert_exporter": "python",
   "pygments_lexer": "ipython3",
   "version": "3.9.18"
  }
 },
 "nbformat": 4,
 "nbformat_minor": 2
}
