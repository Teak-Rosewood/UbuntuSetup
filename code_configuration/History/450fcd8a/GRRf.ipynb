{
 "cells": [
  {
   "cell_type": "code",
   "execution_count": 1,
   "metadata": {},
   "outputs": [],
   "source": [
    "import urllib\n",
    "import zipfile\n",
    "import os \n",
    "os.environ['TF_CPP_MIN_LOG_LEVEL'] = '3' \n",
    "import tensorflow as tf\n",
    "from tensorflow.keras import layers\n",
    "from tensorflow.keras.layers import Dense, Input\n",
    "from tensorflow.keras.models import Sequential"
   ]
  },
  {
   "cell_type": "code",
   "execution_count": 2,
   "metadata": {},
   "outputs": [],
   "source": [
    "def preprocess(image, label):\n",
    "    # NORMALIZE YOUR IMAGES HERE (HINT: Rescale by 1/.255)\n",
    "    return tf.cast(image, tf.float32) / 255., label"
   ]
  },
  {
   "cell_type": "code",
   "execution_count": 3,
   "metadata": {},
   "outputs": [],
   "source": [
    "def solution_model():\n",
    "    # Downloads and extracts the dataset to the directory that\n",
    "    # contains this file.\n",
    "\n",
    "    IMG_SIZE = 128\n",
    "    BATCH_SIZE = 8\n",
    "\n",
    "    # The following code reads the training and validation data from their\n",
    "    # respective directories, resizes them into the specified image size\n",
    "    # and splits them into batches. You must fill in the image_size\n",
    "    # argument for both training and validation data.\n",
    "    # HINT: Image size is a tuple\n",
    "    train_ds = tf.keras.preprocessing.image_dataset_from_directory(\n",
    "        directory='train/',\n",
    "        image_size=(128, 128),# YOUR CODE HERE\n",
    "        batch_size=BATCH_SIZE)\n",
    "\n",
    "    val_ds = tf.keras.preprocessing.image_dataset_from_directory(\n",
    "        directory='validation/',\n",
    "        image_size= (128,128),# YOUR CODE HERE\n",
    "        batch_size=BATCH_SIZE)\n",
    "\n",
    "    # Normalizes train and validation datasets using the\n",
    "    # preprocess() function.\n",
    "    # Also makes other calls, as evident from the code, to prepare them for\n",
    "    # training.\n",
    "    # Do not batch or resize the images in the dataset here since it's already\n",
    "    # been done previously.\n",
    "    train_ds = train_ds.map(\n",
    "        preprocess, num_parallel_calls=tf.data.experimental.AUTOTUNE).prefetch(\n",
    "        tf.data.experimental.AUTOTUNE)\n",
    "    val_ds = val_ds.map(\n",
    "        preprocess, num_parallel_calls=tf.data.experimental.AUTOTUNE).prefetch(\n",
    "        tf.data.experimental.AUTOTUNE)\n",
    "\n",
    "    # Code to define the model\n",
    "    base = tf.keras.applications.efficientnet.EfficientNetB0(input_shape=(128,128,3),\n",
    "                                                             weights='imagenet',\n",
    "                                                             include_top=False)\n",
    "    base.trainable = False\n",
    "    model = tf.keras.Sequential([\n",
    "        base,\n",
    "        tf.keras.layers.GlobalAveragePooling2D(),\n",
    "        tf.keras.layers.Dense(1, activation='sigmoid')\n",
    "    ])\n",
    "\n",
    "\n",
    "\n",
    "    # Code to compile and train the model\n",
    "    model.compile(loss=tf.keras.losses.BinaryCrossentropy(from_logits=True),\n",
    "                  optimizer=tf.keras.optimizers.Adam(0.0001),\n",
    "                  metrics=['accuracy'])\n",
    "\n",
    "    history2 = model.fit(\n",
    "        train_ds,\n",
    "        batch_size=BATCH_SIZE,\n",
    "        validation_data=val_ds,\n",
    "        epochs=10\n",
    "    )\n",
    "\n",
    "    return model"
   ]
  },
  {
   "cell_type": "code",
   "execution_count": 4,
   "metadata": {},
   "outputs": [
    {
     "name": "stdout",
     "output_type": "stream",
     "text": [
      "Found 10000 files belonging to 2 classes.\n",
      "Found 2000 files belonging to 2 classes.\n",
      "Epoch 1/10\n"
     ]
    },
    {
     "name": "stderr",
     "output_type": "stream",
     "text": [
      "/home/blank/miniconda3/envs/tf/lib/python3.9/site-packages/keras/src/backend.py:5805: UserWarning: \"`binary_crossentropy` received `from_logits=True`, but the `output` argument was produced by a Sigmoid activation and thus does not represent logits. Was this intended?\n",
      "  output, from_logits = _get_logits(\n"
     ]
    },
    {
     "name": "stdout",
     "output_type": "stream",
     "text": [
      "1250/1250 [==============================] - 24s 16ms/step - loss: 0.6946 - accuracy: 0.5029 - val_loss: 0.6951 - val_accuracy: 0.5000\n",
      "Epoch 2/10\n",
      "1250/1250 [==============================] - 18s 14ms/step - loss: 0.6936 - accuracy: 0.5042 - val_loss: 0.6944 - val_accuracy: 0.5000\n",
      "Epoch 3/10\n",
      "1250/1250 [==============================] - 18s 14ms/step - loss: 0.6938 - accuracy: 0.5031 - val_loss: 0.6949 - val_accuracy: 0.5000\n",
      "Epoch 4/10\n",
      "1250/1250 [==============================] - 18s 15ms/step - loss: 0.6936 - accuracy: 0.5005 - val_loss: 0.6955 - val_accuracy: 0.5000\n",
      "Epoch 5/10\n",
      "1250/1250 [==============================] - 18s 14ms/step - loss: 0.6938 - accuracy: 0.5057 - val_loss: 0.6941 - val_accuracy: 0.5000\n",
      "Epoch 6/10\n",
      "1250/1250 [==============================] - 18s 14ms/step - loss: 0.6936 - accuracy: 0.5093 - val_loss: 0.6960 - val_accuracy: 0.5000\n",
      "Epoch 7/10\n",
      "1250/1250 [==============================] - 18s 14ms/step - loss: 0.6934 - accuracy: 0.5053 - val_loss: 0.6951 - val_accuracy: 0.5000\n",
      "Epoch 8/10\n",
      "1250/1250 [==============================] - 18s 14ms/step - loss: 0.6933 - accuracy: 0.5113 - val_loss: 0.6948 - val_accuracy: 0.5000\n",
      "Epoch 9/10\n",
      "1250/1250 [==============================] - 18s 14ms/step - loss: 0.6932 - accuracy: 0.5071 - val_loss: 0.6959 - val_accuracy: 0.5000\n",
      "Epoch 10/10\n",
      "1250/1250 [==============================] - 18s 14ms/step - loss: 0.6935 - accuracy: 0.5083 - val_loss: 0.6953 - val_accuracy: 0.5000\n"
     ]
    },
    {
     "name": "stderr",
     "output_type": "stream",
     "text": [
      "/home/blank/miniconda3/envs/tf/lib/python3.9/site-packages/keras/src/engine/training.py:3000: UserWarning: You are saving your model as an HDF5 file via `model.save()`. This file format is considered legacy. We recommend using instead the native Keras format, e.g. `model.save('my_model.keras')`.\n",
      "  saving_api.save_model(\n"
     ]
    }
   ],
   "source": [
    "if __name__ == '__main__':\n",
    "    model = solution_model()\n",
    "    model.save(\"mymodel.h5\")"
   ]
  },
  {
   "cell_type": "code",
   "execution_count": null,
   "metadata": {},
   "outputs": [],
   "source": []
  }
 ],
 "metadata": {
  "kernelspec": {
   "display_name": "tf",
   "language": "python",
   "name": "python3"
  },
  "language_info": {
   "codemirror_mode": {
    "name": "ipython",
    "version": 3
   },
   "file_extension": ".py",
   "mimetype": "text/x-python",
   "name": "python",
   "nbconvert_exporter": "python",
   "pygments_lexer": "ipython3",
   "version": "3.9.18"
  }
 },
 "nbformat": 4,
 "nbformat_minor": 2
}
