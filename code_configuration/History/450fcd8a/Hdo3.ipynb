{
 "cells": [
  {
   "cell_type": "code",
   "execution_count": 5,
   "metadata": {},
   "outputs": [],
   "source": [
    "import urllib\n",
    "import zipfile\n",
    "import os \n",
    "os.environ['TF_CPP_MIN_LOG_LEVEL'] = '3' \n",
    "import tensorflow as tf\n",
    "from tensorflow.keras import layers\n",
    "from tensorflow.keras.layers import Dense, Input\n",
    "from tensorflow.keras.models import Sequential"
   ]
  },
  {
   "cell_type": "code",
   "execution_count": 9,
   "metadata": {},
   "outputs": [],
   "source": [
    "def preprocess(image, label):\n",
    "    # NORMALIZE YOUR IMAGES HERE (HINT: Rescale by 1/.255)\n",
    "    return tf.cast(image, tf.float32) / 255., label"
   ]
  },
  {
   "cell_type": "code",
   "execution_count": 10,
   "metadata": {},
   "outputs": [],
   "source": [
    "def solution_model():\n",
    "    # Downloads and extracts the dataset to the directory that\n",
    "    # contains this file.\n",
    "\n",
    "    IMG_SIZE = 128\n",
    "    BATCH_SIZE = 8\n",
    "\n",
    "    # The following code reads the training and validation data from their\n",
    "    # respective directories, resizes them into the specified image size\n",
    "    # and splits them into batches. You must fill in the image_size\n",
    "    # argument for both training and validation data.\n",
    "    # HINT: Image size is a tuple\n",
    "    train_ds = tf.keras.preprocessing.image_dataset_from_directory(\n",
    "        directory='train/',\n",
    "        image_size=(128, 128),# YOUR CODE HERE\n",
    "        batch_size=BATCH_SIZE)\n",
    "\n",
    "    val_ds = tf.keras.preprocessing.image_dataset_from_directory(\n",
    "        directory='validation/',\n",
    "        image_size= (128,128),# YOUR CODE HERE\n",
    "        batch_size=BATCH_SIZE)\n",
    "\n",
    "    # Normalizes train and validation datasets using the\n",
    "    # preprocess() function.\n",
    "    # Also makes other calls, as evident from the code, to prepare them for\n",
    "    # training.\n",
    "    # Do not batch or resize the images in the dataset here since it's already\n",
    "    # been done previously.\n",
    "    train_ds = train_ds.map(\n",
    "        preprocess, num_parallel_calls=tf.data.experimental.AUTOTUNE).prefetch(\n",
    "        tf.data.experimental.AUTOTUNE)\n",
    "    val_ds = val_ds.map(\n",
    "        preprocess, num_parallel_calls=tf.data.experimental.AUTOTUNE)\n",
    "\n",
    "    # Code to define the model\n",
    "    base = tf.keras.applications.efficientnet.EfficientNetB0(input_shape=(128,128,3),\n",
    "                                                             weights='imagenet',\n",
    "                                                             include_top=False)\n",
    "    base.trainable = False\n",
    "    model = tf.keras.Sequential([\n",
    "        base,\n",
    "        tf.keras.layers.GlobalAveragePooling2D(),\n",
    "        tf.keras.layers.Dense(1, activation='sigmoid')\n",
    "    ])\n",
    "\n",
    "\n",
    "\n",
    "    # Code to compile and train the model\n",
    "    model.compile(loss=tf.keras.losses.BinaryCrossentropy(from_logits=True),\n",
    "                  optimizer=tf.keras.optimizers.Adam(0.0001),\n",
    "                  metrics=['accuracy'])\n",
    "\n",
    "    history2 = model.fit(\n",
    "        train_ds,\n",
    "        batch_size=BATCH_SIZE,\n",
    "        validation_data=val_ds,\n",
    "        epochs=10\n",
    "    )\n",
    "\n",
    "    return model"
   ]
  },
  {
   "cell_type": "code",
   "execution_count": 11,
   "metadata": {},
   "outputs": [
    {
     "name": "stdout",
     "output_type": "stream",
     "text": [
      "Found 10000 files belonging to 2 classes.\n",
      "Found 2000 files belonging to 2 classes.\n",
      "Epoch 1/10\n",
      "1250/1250 [==============================] - 23s 15ms/step - loss: 0.6945 - accuracy: 0.4926 - val_loss: 0.6931 - val_accuracy: 0.5000\n",
      "Epoch 2/10\n",
      "1250/1250 [==============================] - 19s 15ms/step - loss: 0.6942 - accuracy: 0.4984 - val_loss: 0.6930 - val_accuracy: 0.5000\n",
      "Epoch 3/10\n",
      "1250/1250 [==============================] - 18s 14ms/step - loss: 0.6939 - accuracy: 0.5023 - val_loss: 0.6931 - val_accuracy: 0.5000\n",
      "Epoch 4/10\n",
      " 617/1250 [=============>................] - ETA: 8s - loss: 0.6942 - accuracy: 0.4913"
     ]
    }
   ],
   "source": [
    "if __name__ == '__main__':\n",
    "    model = solution_model()\n",
    "    model.save(\"mymodel.h5\")"
   ]
  },
  {
   "cell_type": "code",
   "execution_count": null,
   "metadata": {},
   "outputs": [],
   "source": []
  }
 ],
 "metadata": {
  "kernelspec": {
   "display_name": "tf",
   "language": "python",
   "name": "python3"
  },
  "language_info": {
   "codemirror_mode": {
    "name": "ipython",
    "version": 3
   },
   "file_extension": ".py",
   "mimetype": "text/x-python",
   "name": "python",
   "nbconvert_exporter": "python",
   "pygments_lexer": "ipython3",
   "version": "3.9.18"
  }
 },
 "nbformat": 4,
 "nbformat_minor": 2
}
