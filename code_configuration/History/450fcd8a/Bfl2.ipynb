{
 "cells": [
  {
   "cell_type": "code",
   "execution_count": 1,
   "metadata": {},
   "outputs": [],
   "source": [
    "import urllib\n",
    "import zipfile\n",
    "import os \n",
    "os.environ['TF_CPP_MIN_LOG_LEVEL'] = '3' \n",
    "import tensorflow as tf\n",
    "from tensorflow.keras import layers\n",
    "from tensorflow.keras.layers import Dense, Input\n",
    "from tensorflow.keras.models import Sequential"
   ]
  },
  {
   "cell_type": "code",
   "execution_count": 2,
   "metadata": {},
   "outputs": [],
   "source": [
    "def preprocess(image, label):\n",
    "    # NORMALIZE YOUR IMAGES HERE (HINT: Rescale by 1/.255)\n",
    "    image = tf.cast(image/255. ,tf.float32)\n",
    "    return image, label"
   ]
  },
  {
   "cell_type": "code",
   "execution_count": 3,
   "metadata": {},
   "outputs": [],
   "source": [
    "def solution_model():\n",
    "    # Downloads and extracts the dataset to the directory that\n",
    "    # contains this file.\n",
    "\n",
    "    IMG_SIZE = 128\n",
    "    BATCH_SIZE = 8\n",
    "\n",
    "    # The following code reads the training and validation data from their\n",
    "    # respective directories, resizes them into the specified image size\n",
    "    # and splits them into batches. You must fill in the image_size\n",
    "    # argument for both training and validation data.\n",
    "    # HINT: Image size is a tuple\n",
    "    train_ds = tf.keras.preprocessing.image_dataset_from_directory(\n",
    "        directory='train/',\n",
    "        image_size=(128, 128),# YOUR CODE HERE\n",
    "        label_mode='binary', \n",
    "        batch_size=BATCH_SIZE)\n",
    "\n",
    "    val_ds = tf.keras.preprocessing.image_dataset_from_directory(\n",
    "        directory='validation/',\n",
    "        label_mode='binary', \n",
    "        image_size= (128,128),# YOUR CODE HERE\n",
    "        batch_size=BATCH_SIZE)\n",
    "    \n",
    "    normalization_layer = tf.keras.layers.Rescaling(1./255)\n",
    "    train_ds = train_ds.map(lambda x, y: (normalization_layer(x), y))\n",
    "    val_ds = val_ds.map(lambda x, y: (normalization_layer(x), y))\n",
    "\n",
    "    # Normalizes train and validation datasets using the\n",
    "    # preprocess() function.\n",
    "    # Also makes other calls, as evident from the code, to prepare them for\n",
    "    # training.\n",
    "    # Do not batch or resize the images in the dataset here since it's already\n",
    "    # been done previously.\n",
    "    # train_ds = train_ds.map(\n",
    "    #     preprocess)\n",
    "    # val_ds = val_ds.map(\n",
    "    #     preprocess)\n",
    "\n",
    "    # Code to define the model\n",
    "    base = tf.keras.applications.efficientnet.EfficientNetB0(input_shape=(128,128,3),\n",
    "                                                             weights='imagenet',\n",
    "                                                             include_top=False)\n",
    "    base.trainable = False\n",
    "    model = tf.keras.Sequential([\n",
    "        base,\n",
    "        tf.keras.layers.Flatten(),\n",
    "        tf.keras.layers.Dense(1, activation='sigmoid')\n",
    "    ])\n",
    "\n",
    "\n",
    "\n",
    "    # Code to compile and train the model\n",
    "    model.compile(optimizer=tf.optimizers.Adam(), \n",
    "                  loss='binary_crossentropy',\n",
    "                    metrics='accuracy')\n",
    "\n",
    "    history = model.fit(\n",
    "        train_ds,\n",
    "        batch_size=BATCH_SIZE,\n",
    "        validation_data=val_ds,\n",
    "        epochs=10\n",
    "    )\n",
    "\n",
    "    return model"
   ]
  },
  {
   "cell_type": "code",
   "execution_count": 4,
   "metadata": {},
   "outputs": [
    {
     "name": "stdout",
     "output_type": "stream",
     "text": [
      "Found 10000 files belonging to 2 classes.\n",
      "Found 2000 files belonging to 2 classes.\n",
      "Epoch 1/10\n",
      "1250/1250 [==============================] - 24s 16ms/step - loss: 0.3295 - accuracy: 0.8905 - val_loss: 0.3445 - val_accuracy: 0.9130\n",
      "Epoch 2/10\n",
      "1250/1250 [==============================] - 18s 15ms/step - loss: 0.1751 - accuracy: 0.9476 - val_loss: 0.4426 - val_accuracy: 0.9025\n",
      "Epoch 3/10\n",
      "1250/1250 [==============================] - 18s 14ms/step - loss: 0.1268 - accuracy: 0.9577 - val_loss: 0.3859 - val_accuracy: 0.9185\n",
      "Epoch 4/10\n",
      "1250/1250 [==============================] - 18s 14ms/step - loss: 0.0987 - accuracy: 0.9687 - val_loss: 0.4247 - val_accuracy: 0.9200\n",
      "Epoch 5/10\n",
      "1250/1250 [==============================] - 18s 15ms/step - loss: 0.0949 - accuracy: 0.9699 - val_loss: 0.4303 - val_accuracy: 0.9265\n",
      "Epoch 6/10\n",
      "1250/1250 [==============================] - 18s 14ms/step - loss: 0.0920 - accuracy: 0.9718 - val_loss: 0.4869 - val_accuracy: 0.9190\n",
      "Epoch 7/10\n",
      "1250/1250 [==============================] - 18s 14ms/step - loss: 0.0749 - accuracy: 0.9781 - val_loss: 0.4676 - val_accuracy: 0.9210\n",
      "Epoch 8/10\n",
      "1250/1250 [==============================] - 19s 15ms/step - loss: 0.0627 - accuracy: 0.9827 - val_loss: 0.4273 - val_accuracy: 0.9330\n",
      "Epoch 9/10\n",
      "1069/1250 [========================>.....] - ETA: 2s - loss: 0.0568 - accuracy: 0.9828"
     ]
    }
   ],
   "source": [
    "if __name__ == '__main__':\n",
    "    model = solution_model()\n",
    "    model.save(\"mymodel.h5\")"
   ]
  },
  {
   "cell_type": "code",
   "execution_count": null,
   "metadata": {},
   "outputs": [],
   "source": [
    "print(history.history)"
   ]
  },
  {
   "cell_type": "code",
   "execution_count": null,
   "metadata": {},
   "outputs": [],
   "source": []
  }
 ],
 "metadata": {
  "kernelspec": {
   "display_name": "tf",
   "language": "python",
   "name": "python3"
  },
  "language_info": {
   "codemirror_mode": {
    "name": "ipython",
    "version": 3
   },
   "file_extension": ".py",
   "mimetype": "text/x-python",
   "name": "python",
   "nbconvert_exporter": "python",
   "pygments_lexer": "ipython3",
   "version": "3.9.18"
  }
 },
 "nbformat": 4,
 "nbformat_minor": 2
}
