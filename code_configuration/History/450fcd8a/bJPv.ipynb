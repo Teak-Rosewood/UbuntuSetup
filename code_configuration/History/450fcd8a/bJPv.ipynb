{
 "cells": [
  {
   "cell_type": "code",
   "execution_count": 1,
   "metadata": {},
   "outputs": [],
   "source": [
    "import urllib\n",
    "import zipfile\n",
    "import os \n",
    "os.environ['TF_CPP_MIN_LOG_LEVEL'] = '3' \n",
    "import tensorflow as tf\n",
    "from tensorflow.keras import layers\n",
    "from tensorflow.keras.layers import Dense, Input\n",
    "from tensorflow.keras.models import Sequential\n",
    "from keras.applications.vgg16 import VGG16"
   ]
  },
  {
   "cell_type": "code",
   "execution_count": 2,
   "metadata": {},
   "outputs": [],
   "source": [
    "def preprocess(image, label):\n",
    "    # NORMALIZE YOUR IMAGES HERE (HINT: Rescale by 1/.255)\n",
    "    image = tf.cast(image/255. ,tf.float32)\n",
    "    return image, label"
   ]
  },
  {
   "cell_type": "code",
   "execution_count": 3,
   "metadata": {},
   "outputs": [],
   "source": [
    "def solution_model():\n",
    "    # Downloads and extracts the dataset to the directory that\n",
    "    # contains this file.\n",
    "\n",
    "    IMG_SIZE = 128\n",
    "    BATCH_SIZE = 8\n",
    "\n",
    "    # The following code reads the training and validation data from their\n",
    "    # respective directories, resizes them into the specified image size\n",
    "    # and splits them into batches. You must fill in the image_size\n",
    "    # argument for both training and validation data.\n",
    "    # HINT: Image size is a tuple\n",
    "    train_ds = tf.keras.preprocessing.image_dataset_from_directory(\n",
    "        directory='train/',\n",
    "        image_size=(128, 128),# YOUR CODE HERE\n",
    "        batch_size=BATCH_SIZE)\n",
    "\n",
    "    val_ds = tf.keras.preprocessing.image_dataset_from_directory(\n",
    "        directory='validation/',\n",
    "        image_size= (128,128),# YOUR CODE HERE\n",
    "        batch_size=BATCH_SIZE)\n",
    "    \n",
    "    normalization_layer = tf.keras.layers.Rescaling(1./255)\n",
    "    train_ds = train_ds.map(lambda x, y: (normalization_layer(x), y))\n",
    "    val_ds = val_ds.map(lambda x, y: (normalization_layer(x), y))\n",
    "\n",
    "    # Normalizes train and validation datasets using the\n",
    "    # preprocess() function.\n",
    "    # Also makes other calls, as evident from the code, to prepare them for\n",
    "    # training.\n",
    "    # Do not batch or resize the images in the dataset here since it's already\n",
    "    # been done previously.\n",
    "    # train_ds = train_ds.map(\n",
    "    #     preprocess)\n",
    "    # val_ds = val_ds.map(\n",
    "    #     preprocess)\n",
    "\n",
    "    # Code to define the model\n",
    "    # VGG-16\n",
    "\n",
    "    \n",
    "\n",
    "    base = tf.keras.applications.mobilenet_v2.MobileNetV2(input_shape=(128,128,3),\n",
    "                                                             weights='imagenet',\n",
    "                                                             include_top=False)\n",
    "    base.trainable = False\n",
    "    model = tf.keras.Sequential([\n",
    "        base,\n",
    "        tf.keras.layers.Flatten(),\n",
    "        tf.keras.layers.Dense(1, activation='sigmoid')\n",
    "    ])\n",
    "\n",
    "\n",
    "\n",
    "    # Code to compile and train the model\n",
    "    model.compile(optimizer=tf.optimizers.Adam(), \n",
    "                  loss='binary_crossentropy',\n",
    "                    metrics='accuracy')\n",
    "\n",
    "    history = model.fit(\n",
    "        train_ds,\n",
    "        batch_size=BATCH_SIZE,\n",
    "        validation_data=val_ds,\n",
    "        epochs=10\n",
    "    )\n",
    "\n",
    "    return model"
   ]
  },
  {
   "cell_type": "code",
   "execution_count": 4,
   "metadata": {},
   "outputs": [
    {
     "name": "stdout",
     "output_type": "stream",
     "text": [
      "Found 10000 files belonging to 2 classes.\n",
      "Found 2000 files belonging to 2 classes.\n",
      "Downloading data from https://storage.googleapis.com/tensorflow/keras-applications/mobilenet_v2/mobilenet_v2_weights_tf_dim_ordering_tf_kernels_1.0_128_no_top.h5\n",
      "9406464/9406464 [==============================] - 1s 0us/step\n",
      "Epoch 1/10\n",
      "1250/1250 [==============================] - 15s 10ms/step - loss: 0.4904 - accuracy: 0.8912 - val_loss: 0.4884 - val_accuracy: 0.9115\n",
      "Epoch 2/10\n",
      "1250/1250 [==============================] - 12s 10ms/step - loss: 0.2498 - accuracy: 0.9453 - val_loss: 0.5625 - val_accuracy: 0.9165\n",
      "Epoch 3/10\n",
      "1250/1250 [==============================] - 12s 10ms/step - loss: 0.1648 - accuracy: 0.9617 - val_loss: 0.4692 - val_accuracy: 0.9305\n",
      "Epoch 4/10\n",
      "1250/1250 [==============================] - 12s 10ms/step - loss: 0.1488 - accuracy: 0.9653 - val_loss: 0.7245 - val_accuracy: 0.9195\n",
      "Epoch 5/10\n",
      "1250/1250 [==============================] - 12s 10ms/step - loss: 0.1443 - accuracy: 0.9689 - val_loss: 0.5859 - val_accuracy: 0.9310\n",
      "Epoch 6/10\n",
      "1250/1250 [==============================] - 12s 10ms/step - loss: 0.0984 - accuracy: 0.9771 - val_loss: 0.6926 - val_accuracy: 0.9315\n",
      "Epoch 7/10\n",
      "1250/1250 [==============================] - 12s 10ms/step - loss: 0.1160 - accuracy: 0.9774 - val_loss: 0.7177 - val_accuracy: 0.9280\n",
      "Epoch 8/10\n",
      "1250/1250 [==============================] - 12s 10ms/step - loss: 0.0765 - accuracy: 0.9842 - val_loss: 0.8727 - val_accuracy: 0.9260\n",
      "Epoch 9/10\n",
      "1250/1250 [==============================] - 13s 10ms/step - loss: 0.0822 - accuracy: 0.9834 - val_loss: 0.7951 - val_accuracy: 0.9280\n",
      "Epoch 10/10\n",
      "1250/1250 [==============================] - 12s 10ms/step - loss: 0.0670 - accuracy: 0.9868 - val_loss: 1.1380 - val_accuracy: 0.9200\n"
     ]
    },
    {
     "name": "stderr",
     "output_type": "stream",
     "text": [
      "/home/blank/miniconda3/envs/tf/lib/python3.9/site-packages/keras/src/engine/training.py:3000: UserWarning: You are saving your model as an HDF5 file via `model.save()`. This file format is considered legacy. We recommend using instead the native Keras format, e.g. `model.save('my_model.keras')`.\n",
      "  saving_api.save_model(\n"
     ]
    }
   ],
   "source": [
    "if __name__ == '__main__':\n",
    "    model = solution_model()\n",
    "    model.save(\"mymodel.h5\")"
   ]
  },
  {
   "cell_type": "code",
   "execution_count": null,
   "metadata": {},
   "outputs": [],
   "source": []
  }
 ],
 "metadata": {
  "kernelspec": {
   "display_name": "tf",
   "language": "python",
   "name": "python3"
  },
  "language_info": {
   "codemirror_mode": {
    "name": "ipython",
    "version": 3
   },
   "file_extension": ".py",
   "mimetype": "text/x-python",
   "name": "python",
   "nbconvert_exporter": "python",
   "pygments_lexer": "ipython3",
   "version": "3.9.18"
  }
 },
 "nbformat": 4,
 "nbformat_minor": 2
}
